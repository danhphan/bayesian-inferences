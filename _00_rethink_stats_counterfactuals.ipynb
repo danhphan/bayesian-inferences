{
 "cells": [
  {
   "cell_type": "code",
   "execution_count": null,
   "metadata": {},
   "outputs": [
    {
     "name": "stderr",
     "output_type": "stream",
     "text": [
      "WARNING (theano.tensor.blas): Using NumPy C-API based implementation for BLAS functions.\n"
     ]
    }
   ],
   "source": [
    "import warnings\n",
    "\n",
    "import arviz as az\n",
    "import matplotlib.pyplot as plt\n",
    "import numpy as np\n",
    "import pandas as pd\n",
    "import pymc3 as pm\n",
    "import theano.tensor as tt\n",
    "\n",
    "from scipy import stats\n",
    "from scipy.special import expit as logistic\n",
    "from scipy.special import softmax\n",
    "\n",
    "%config InlineBackend.figure_format = 'retina'\n",
    "warnings.simplefilter(action=\"ignore\", category=FutureWarning)\n",
    "RANDOM_SEED = 8927\n",
    "np.random.seed(286)"
   ]
  },
  {
   "cell_type": "markdown",
   "metadata": {},
   "source": [
    "### 1. Career choices"
   ]
  },
  {
   "cell_type": "code",
   "execution_count": null,
   "metadata": {},
   "outputs": [],
   "source": []
  },
  {
   "cell_type": "code",
   "execution_count": null,
   "metadata": {},
   "outputs": [
    {
     "data": {
      "text/plain": [
       "(array([2, 2, 2, 2, 0, 2, 1, 2, 2, 2, 2]),\n",
       " array([0.5, 1. , 2.5]),\n",
       " array([0.09962365, 0.16425163, 0.73612472]))"
      ]
     },
     "execution_count": null,
     "metadata": {},
     "output_type": "execute_result"
    }
   ],
   "source": [
    "# simulate career choices among 500 individuals\n",
    "N = 500  # number of individuals\n",
    "income = np.array([1, 2, 5])  # expected income of each career\n",
    "score = 0.5 * income  # score for each career, based on income\n",
    "# converts scores to probabilities:\n",
    "p = softmax(score)\n",
    "\n",
    "# now simulate choice\n",
    "# outcome career holds event type values, not counts\n",
    "career = np.random.multinomial(1, p, size=N)3\n",
    "career = np.where(career == 1)[1]\n",
    "career[:11], score, p"
   ]
  },
  {
   "cell_type": "code",
   "execution_count": null,
   "metadata": {},
   "outputs": [
    {
     "name": "stderr",
     "output_type": "stream",
     "text": [
      "/opt/conda/lib/python3.7/site-packages/ipykernel_launcher.py:14: UserWarning: DEPRECATION: If x is a vector, Softmax will not automatically pad x anymore in next releases. If you need it, please do it manually. The vector case is gonna be supported soon and the output will be a vector.\n",
      "  \n",
      "Auto-assigning NUTS sampler...\n",
      "Initializing NUTS using jitter+adapt_diag...\n",
      "Multiprocess sampling (4 chains in 4 jobs)\n",
      "NUTS: [b, a]\n"
     ]
    },
    {
     "data": {
      "text/html": [
       "\n",
       "    <div>\n",
       "        <style>\n",
       "            /* Turns off some styling */\n",
       "            progress {\n",
       "                /* gets rid of default border in Firefox and Opera. */\n",
       "                border: none;\n",
       "                /* Needs to be in here for Safari polyfill so background images work as expected. */\n",
       "                background-size: auto;\n",
       "            }\n",
       "            .progress-bar-interrupted, .progress-bar-interrupted::-webkit-progress-bar {\n",
       "                background: #F44336;\n",
       "            }\n",
       "        </style>\n",
       "      <progress value='12000' class='' max='12000' style='width:300px; height:20px; vertical-align: middle;'></progress>\n",
       "      100.00% [12000/12000 00:15<00:00 Sampling 4 chains, 0 divergences]\n",
       "    </div>\n",
       "    "
      ],
      "text/plain": [
       "<IPython.core.display.HTML object>"
      ]
     },
     "metadata": {},
     "output_type": "display_data"
    },
    {
     "name": "stderr",
     "output_type": "stream",
     "text": [
      "Sampling 4 chains for 2_000 tune and 1_000 draw iterations (8_000 + 4_000 draws total) took 16 seconds.\n",
      "The number of effective samples is smaller than 25% for some parameters.\n"
     ]
    }
   ],
   "source": [
    "with pm.Model() as m1_1:\n",
    "    a = pm.Normal(\"a\", 0, 1, shape=2)\n",
    "    b = pm.HalfNormal(\"b\", 0.5)\n",
    "    \n",
    "    income_0 = pm.Data(\"income_0\", value=1)\n",
    "    income_1 = pm.Data(\"income_1\", value=2)\n",
    "    income_2 = pm.Data(\"income_2\", value=5)\n",
    "    \n",
    "    s0 = a[0] + b * income_0\n",
    "    s1 = a[1] + b * income_1\n",
    "    s2 = 0.0 + b * income_2\n",
    "    \n",
    "    s = pm.math.stack([s0, s1, s2])\n",
    "    p_ = pm.Deterministic(\"p\", tt.nnet.softmax(s))\n",
    "    \n",
    "    career_obs = pm.Categorical('career', p=p_, observed=career)\n",
    "    trace1_1 = pm.sample(tune=2000, target_accept=0.99, random_seed=RANDOM_SEED)"
   ]
  },
  {
   "cell_type": "code",
   "execution_count": null,
   "metadata": {},
   "outputs": [
    {
     "data": {
      "text/html": [
       "<div>\n",
       "<style scoped>\n",
       "    .dataframe tbody tr th:only-of-type {\n",
       "        vertical-align: middle;\n",
       "    }\n",
       "\n",
       "    .dataframe tbody tr th {\n",
       "        vertical-align: top;\n",
       "    }\n",
       "\n",
       "    .dataframe thead th {\n",
       "        text-align: right;\n",
       "    }\n",
       "</style>\n",
       "<table border=\"1\" class=\"dataframe\">\n",
       "  <thead>\n",
       "    <tr style=\"text-align: right;\">\n",
       "      <th></th>\n",
       "      <th>mean</th>\n",
       "      <th>sd</th>\n",
       "      <th>hdi_3%</th>\n",
       "      <th>hdi_97%</th>\n",
       "      <th>mcse_mean</th>\n",
       "      <th>mcse_sd</th>\n",
       "      <th>ess_mean</th>\n",
       "      <th>ess_sd</th>\n",
       "      <th>ess_bulk</th>\n",
       "      <th>ess_tail</th>\n",
       "      <th>r_hat</th>\n",
       "    </tr>\n",
       "  </thead>\n",
       "  <tbody>\n",
       "    <tr>\n",
       "      <th>a[0]</th>\n",
       "      <td>-0.288</td>\n",
       "      <td>0.727</td>\n",
       "      <td>-1.676</td>\n",
       "      <td>0.950</td>\n",
       "      <td>0.033</td>\n",
       "      <td>0.023</td>\n",
       "      <td>479.0</td>\n",
       "      <td>479.0</td>\n",
       "      <td>477.0</td>\n",
       "      <td>544.0</td>\n",
       "      <td>1.0</td>\n",
       "    </tr>\n",
       "    <tr>\n",
       "      <th>a[1]</th>\n",
       "      <td>-0.083</td>\n",
       "      <td>0.552</td>\n",
       "      <td>-1.126</td>\n",
       "      <td>0.883</td>\n",
       "      <td>0.025</td>\n",
       "      <td>0.018</td>\n",
       "      <td>477.0</td>\n",
       "      <td>477.0</td>\n",
       "      <td>478.0</td>\n",
       "      <td>524.0</td>\n",
       "      <td>1.0</td>\n",
       "    </tr>\n",
       "    <tr>\n",
       "      <th>b</th>\n",
       "      <td>0.470</td>\n",
       "      <td>0.182</td>\n",
       "      <td>0.150</td>\n",
       "      <td>0.807</td>\n",
       "      <td>0.008</td>\n",
       "      <td>0.006</td>\n",
       "      <td>482.0</td>\n",
       "      <td>460.0</td>\n",
       "      <td>481.0</td>\n",
       "      <td>597.0</td>\n",
       "      <td>1.0</td>\n",
       "    </tr>\n",
       "    <tr>\n",
       "      <th>p[0,0]</th>\n",
       "      <td>0.086</td>\n",
       "      <td>0.013</td>\n",
       "      <td>0.061</td>\n",
       "      <td>0.110</td>\n",
       "      <td>0.000</td>\n",
       "      <td>0.000</td>\n",
       "      <td>3242.0</td>\n",
       "      <td>3242.0</td>\n",
       "      <td>3182.0</td>\n",
       "      <td>2300.0</td>\n",
       "      <td>1.0</td>\n",
       "    </tr>\n",
       "    <tr>\n",
       "      <th>p[0,1]</th>\n",
       "      <td>0.168</td>\n",
       "      <td>0.017</td>\n",
       "      <td>0.137</td>\n",
       "      <td>0.199</td>\n",
       "      <td>0.000</td>\n",
       "      <td>0.000</td>\n",
       "      <td>2776.0</td>\n",
       "      <td>2776.0</td>\n",
       "      <td>2764.0</td>\n",
       "      <td>2608.0</td>\n",
       "      <td>1.0</td>\n",
       "    </tr>\n",
       "    <tr>\n",
       "      <th>p[0,2]</th>\n",
       "      <td>0.746</td>\n",
       "      <td>0.020</td>\n",
       "      <td>0.709</td>\n",
       "      <td>0.782</td>\n",
       "      <td>0.000</td>\n",
       "      <td>0.000</td>\n",
       "      <td>3728.0</td>\n",
       "      <td>3728.0</td>\n",
       "      <td>3718.0</td>\n",
       "      <td>2512.0</td>\n",
       "      <td>1.0</td>\n",
       "    </tr>\n",
       "  </tbody>\n",
       "</table>\n",
       "</div>"
      ],
      "text/plain": [
       "         mean     sd  hdi_3%  hdi_97%  mcse_mean  mcse_sd  ess_mean  ess_sd  \\\n",
       "a[0]   -0.288  0.727  -1.676    0.950      0.033    0.023     479.0   479.0   \n",
       "a[1]   -0.083  0.552  -1.126    0.883      0.025    0.018     477.0   477.0   \n",
       "b       0.470  0.182   0.150    0.807      0.008    0.006     482.0   460.0   \n",
       "p[0,0]  0.086  0.013   0.061    0.110      0.000    0.000    3242.0  3242.0   \n",
       "p[0,1]  0.168  0.017   0.137    0.199      0.000    0.000    2776.0  2776.0   \n",
       "p[0,2]  0.746  0.020   0.709    0.782      0.000    0.000    3728.0  3728.0   \n",
       "\n",
       "        ess_bulk  ess_tail  r_hat  \n",
       "a[0]       477.0     544.0    1.0  \n",
       "a[1]       478.0     524.0    1.0  \n",
       "b          481.0     597.0    1.0  \n",
       "p[0,0]    3182.0    2300.0    1.0  \n",
       "p[0,1]    2764.0    2608.0    1.0  \n",
       "p[0,2]    3718.0    2512.0    1.0  "
      ]
     },
     "execution_count": null,
     "metadata": {},
     "output_type": "execute_result"
    }
   ],
   "source": [
    "az.summary(trace1_1)"
   ]
  },
  {
   "cell_type": "code",
   "execution_count": null,
   "metadata": {},
   "outputs": [],
   "source": [
    "p_org = trace1_1[\"p\"]"
   ]
  },
  {
   "cell_type": "markdown",
   "metadata": {},
   "source": [
    "##### ASSUMPTION: When income_1 is double"
   ]
  },
  {
   "cell_type": "code",
   "execution_count": null,
   "metadata": {},
   "outputs": [
    {
     "data": {
      "text/html": [
       "\n",
       "    <div>\n",
       "        <style>\n",
       "            /* Turns off some styling */\n",
       "            progress {\n",
       "                /* gets rid of default border in Firefox and Opera. */\n",
       "                border: none;\n",
       "                /* Needs to be in here for Safari polyfill so background images work as expected. */\n",
       "                background-size: auto;\n",
       "            }\n",
       "            .progress-bar-interrupted, .progress-bar-interrupted::-webkit-progress-bar {\n",
       "                background: #F44336;\n",
       "            }\n",
       "        </style>\n",
       "      <progress value='4000' class='' max='4000' style='width:300px; height:20px; vertical-align: middle;'></progress>\n",
       "      100.00% [4000/4000 00:01<00:00]\n",
       "    </div>\n",
       "    "
      ],
      "text/plain": [
       "<IPython.core.display.HTML object>"
      ]
     },
     "metadata": {},
     "output_type": "display_data"
    }
   ],
   "source": [
    "with m1_1:\n",
    "    pm.set_data({\"income_1\": 4})\n",
    "    ppc = pm.sample_posterior_predictive(trace1_1, var_names=[\"a\", \"p\"])"
   ]
  },
  {
   "cell_type": "code",
   "execution_count": null,
   "metadata": {},
   "outputs": [],
   "source": [
    "p_new = ppc[\"p\"]"
   ]
  },
  {
   "cell_type": "code",
   "execution_count": null,
   "metadata": {},
   "outputs": [
    {
     "data": {
      "text/html": [
       "<div>\n",
       "<style scoped>\n",
       "    .dataframe tbody tr th:only-of-type {\n",
       "        vertical-align: middle;\n",
       "    }\n",
       "\n",
       "    .dataframe tbody tr th {\n",
       "        vertical-align: top;\n",
       "    }\n",
       "\n",
       "    .dataframe thead th {\n",
       "        text-align: right;\n",
       "    }\n",
       "</style>\n",
       "<table border=\"1\" class=\"dataframe\">\n",
       "  <thead>\n",
       "    <tr style=\"text-align: right;\">\n",
       "      <th></th>\n",
       "      <th>mean</th>\n",
       "      <th>sd</th>\n",
       "      <th>hdi_3%</th>\n",
       "      <th>hdi_97%</th>\n",
       "    </tr>\n",
       "  </thead>\n",
       "  <tbody>\n",
       "    <tr>\n",
       "      <th>p_diff[0]</th>\n",
       "      <td>-0.018</td>\n",
       "      <td>0.019</td>\n",
       "      <td>-0.054</td>\n",
       "      <td>0.017</td>\n",
       "    </tr>\n",
       "    <tr>\n",
       "      <th>p_diff[1]</th>\n",
       "      <td>0.177</td>\n",
       "      <td>0.085</td>\n",
       "      <td>0.025</td>\n",
       "      <td>0.335</td>\n",
       "    </tr>\n",
       "    <tr>\n",
       "      <th>p_diff[2]</th>\n",
       "      <td>-0.159</td>\n",
       "      <td>0.077</td>\n",
       "      <td>-0.302</td>\n",
       "      <td>-0.020</td>\n",
       "    </tr>\n",
       "  </tbody>\n",
       "</table>\n",
       "</div>"
      ],
      "text/plain": [
       "            mean     sd  hdi_3%  hdi_97%\n",
       "p_diff[0] -0.018  0.019  -0.054    0.017\n",
       "p_diff[1]  0.177  0.085   0.025    0.335\n",
       "p_diff[2] -0.159  0.077  -0.302   -0.020"
      ]
     },
     "execution_count": null,
     "metadata": {},
     "output_type": "execute_result"
    }
   ],
   "source": [
    "p_diff = p_new - p_org\n",
    "az.summary({\"p_diff\": p_diff}, kind=\"stats\")"
   ]
  },
  {
   "cell_type": "code",
   "execution_count": null,
   "metadata": {},
   "outputs": [
    {
     "data": {
      "text/plain": [
       "(pymc3.backends.base.MultiTrace, dict)"
      ]
     },
     "execution_count": null,
     "metadata": {},
     "output_type": "execute_result"
    }
   ],
   "source": [
    "type(trace1_1), type(ppc)"
   ]
  }
 ],
 "metadata": {
  "kernelspec": {
   "display_name": "Python 3",
   "language": "python",
   "name": "python3"
  }
 },
 "nbformat": 4,
 "nbformat_minor": 4
}
