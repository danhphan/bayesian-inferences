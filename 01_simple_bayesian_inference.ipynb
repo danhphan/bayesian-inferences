{
 "cells": [
  {
   "cell_type": "code",
   "execution_count": null,
   "metadata": {},
   "outputs": [],
   "source": [
    "# default_exp simple_bayesian_inference"
   ]
  },
  {
   "cell_type": "markdown",
   "metadata": {},
   "source": [
    "# simple_bayesian_inference\n",
    "\n",
    "> API details."
   ]
  },
  {
   "cell_type": "code",
   "execution_count": null,
   "metadata": {},
   "outputs": [],
   "source": [
    "%matplotlib inline\n",
    "import numpy as np\n",
    "import pandas as pd\n",
    "import matplotlib.pylab as plt\n",
    "import seaborn as sns\n",
    "sns.set_context('notebook')\n",
    "\n",
    "RANDOM_SEED = 20090425"
   ]
  },
  {
   "cell_type": "markdown",
   "metadata": {},
   "source": [
    "## I. Bayesian Inference in 3 Easy Steps"
   ]
  },
  {
   "cell_type": "markdown",
   "metadata": {},
   "source": [
    "#### Step 1: Specify a probability model"
   ]
  },
  {
   "cell_type": "code",
   "execution_count": null,
   "metadata": {},
   "outputs": [
    {
     "name": "stderr",
     "output_type": "stream",
     "text": [
      "WARNING (theano.tensor.blas): Using NumPy C-API based implementation for BLAS functions.\n"
     ]
    }
   ],
   "source": [
    "# Discrete Random Variables\n",
    "from pymc3 import Poisson\n",
    "\n",
    "x = Poisson.dist(mu=1)\n",
    "samples = x.random(size=10000)"
   ]
  },
  {
   "cell_type": "code",
   "execution_count": null,
   "metadata": {},
   "outputs": [
    {
     "data": {
      "text/plain": [
       "(0.9944, 1.0006840860131634)"
      ]
     },
     "execution_count": null,
     "metadata": {},
     "output_type": "execute_result"
    }
   ],
   "source": [
    "samples.mean(), samples.std()"
   ]
  },
  {
   "cell_type": "code",
   "execution_count": null,
   "metadata": {},
   "outputs": [
    {
     "data": {
      "text/plain": [
       "(array([3.713e+03, 3.671e+03, 1.804e+03, 6.240e+02, 1.570e+02, 2.200e+01,\n",
       "        8.000e+00, 1.000e+00]),\n",
       " array([0.   , 0.875, 1.75 , 2.625, 3.5  , 4.375, 5.25 , 6.125, 7.   ]),\n",
       " <a list of 8 Patch objects>)"
      ]
     },
     "execution_count": null,
     "metadata": {},
     "output_type": "execute_result"
    },
    {
     "data": {
      "image/png": "[encoded data removed]",
      "text/plain": [
       "<Figure size 432x288 with 1 Axes>"
      ]
     },
     "metadata": {
      "needs_background": "light"
     },
     "output_type": "display_data"
    }
   ],
   "source": [
    "plt.hist(samples, bins=len(set(samples)))"
   ]
  },
  {
   "cell_type": "code",
   "execution_count": null,
   "metadata": {},
   "outputs": [],
   "source": [
    "# Continuous Random Variables\n",
    "from pymc3 import Normal\n",
    "\n",
    "y = Normal.dist(mu=-1, sd=4)\n",
    "samples = y.random(size=10000)"
   ]
  },
  {
   "cell_type": "code",
   "execution_count": null,
   "metadata": {},
   "outputs": [
    {
     "data": {
      "text/plain": [
       "(-0.9696848024533491, 3.9860246198576657)"
      ]
     },
     "execution_count": null,
     "metadata": {},
     "output_type": "execute_result"
    }
   ],
   "source": [
    "samples.mean(), samples.std()"
   ]
  },
  {
   "cell_type": "code",
   "execution_count": null,
   "metadata": {},
   "outputs": [
    {
     "data": {
      "text/plain": [
       "(array([  20.,  143.,  766., 1903., 2841., 2520., 1366.,  377.,   58.,\n",
       "           6.]),\n",
       " array([-15.34311678, -12.32728128,  -9.31144579,  -6.29561029,\n",
       "         -3.27977479,  -0.26393929,   2.75189621,   5.7677317 ,\n",
       "          8.7835672 ,  11.7994027 ,  14.8152382 ]),\n",
       " <a list of 10 Patch objects>)"
      ]
     },
     "execution_count": null,
     "metadata": {},
     "output_type": "execute_result"
    },
    {
     "data": {
      "image/png": "[encoded data removed]",
      "text/plain": [
       "<Figure size 432x288 with 1 Axes>"
      ]
     },
     "metadata": {
      "needs_background": "light"
     },
     "output_type": "display_data"
    }
   ],
   "source": [
    "plt.hist(samples)"
   ]
  },
  {
   "cell_type": "markdown",
   "metadata": {},
   "source": [
    "#### Step 2: Calculate a posterior distribution"
   ]
  },
  {
   "cell_type": "markdown",
   "metadata": {},
   "source": [
    "#### Step 3: Check your model"
   ]
  },
  {
   "cell_type": "code",
   "execution_count": null,
   "metadata": {},
   "outputs": [],
   "source": []
  },
  {
   "cell_type": "markdown",
   "metadata": {},
   "source": [
    "## II. Estimation for one group"
   ]
  },
  {
   "cell_type": "code",
   "execution_count": null,
   "metadata": {},
   "outputs": [
    {
     "data": {
      "text/html": [
       "<div>\n",
       "<style scoped>\n",
       "    .dataframe tbody tr th:only-of-type {\n",
       "        vertical-align: middle;\n",
       "    }\n",
       "\n",
       "    .dataframe tbody tr th {\n",
       "        vertical-align: top;\n",
       "    }\n",
       "\n",
       "    .dataframe thead th {\n",
       "        text-align: right;\n",
       "    }\n",
       "</style>\n",
       "<table border=\"1\" class=\"dataframe\">\n",
       "  <thead>\n",
       "    <tr style=\"text-align: right;\">\n",
       "      <th></th>\n",
       "      <th>idnum</th>\n",
       "      <th>state</th>\n",
       "      <th>state2</th>\n",
       "      <th>stfips</th>\n",
       "      <th>zip</th>\n",
       "      <th>region</th>\n",
       "      <th>typebldg</th>\n",
       "      <th>floor</th>\n",
       "      <th>room</th>\n",
       "      <th>basement</th>\n",
       "      <th>...</th>\n",
       "      <th>pcterr</th>\n",
       "      <th>adjwt</th>\n",
       "      <th>dupflag</th>\n",
       "      <th>zipflag</th>\n",
       "      <th>cntyfips</th>\n",
       "      <th>county</th>\n",
       "      <th>fips</th>\n",
       "      <th>Uppm</th>\n",
       "      <th>county_code</th>\n",
       "      <th>log_radon</th>\n",
       "    </tr>\n",
       "  </thead>\n",
       "  <tbody>\n",
       "    <tr>\n",
       "      <th>0</th>\n",
       "      <td>5081.0</td>\n",
       "      <td>MN</td>\n",
       "      <td>MN</td>\n",
       "      <td>27.0</td>\n",
       "      <td>55735</td>\n",
       "      <td>5.0</td>\n",
       "      <td>1.0</td>\n",
       "      <td>1.0</td>\n",
       "      <td>3.0</td>\n",
       "      <td>N</td>\n",
       "      <td>...</td>\n",
       "      <td>9.7</td>\n",
       "      <td>1146.499190</td>\n",
       "      <td>1.0</td>\n",
       "      <td>0.0</td>\n",
       "      <td>1.0</td>\n",
       "      <td>AITKIN</td>\n",
       "      <td>27001.0</td>\n",
       "      <td>0.502054</td>\n",
       "      <td>0</td>\n",
       "      <td>0.832909</td>\n",
       "    </tr>\n",
       "    <tr>\n",
       "      <th>1</th>\n",
       "      <td>5082.0</td>\n",
       "      <td>MN</td>\n",
       "      <td>MN</td>\n",
       "      <td>27.0</td>\n",
       "      <td>55748</td>\n",
       "      <td>5.0</td>\n",
       "      <td>1.0</td>\n",
       "      <td>0.0</td>\n",
       "      <td>4.0</td>\n",
       "      <td>Y</td>\n",
       "      <td>...</td>\n",
       "      <td>14.5</td>\n",
       "      <td>471.366223</td>\n",
       "      <td>0.0</td>\n",
       "      <td>0.0</td>\n",
       "      <td>1.0</td>\n",
       "      <td>AITKIN</td>\n",
       "      <td>27001.0</td>\n",
       "      <td>0.502054</td>\n",
       "      <td>0</td>\n",
       "      <td>0.832909</td>\n",
       "    </tr>\n",
       "    <tr>\n",
       "      <th>2</th>\n",
       "      <td>5083.0</td>\n",
       "      <td>MN</td>\n",
       "      <td>MN</td>\n",
       "      <td>27.0</td>\n",
       "      <td>55748</td>\n",
       "      <td>5.0</td>\n",
       "      <td>1.0</td>\n",
       "      <td>0.0</td>\n",
       "      <td>4.0</td>\n",
       "      <td>Y</td>\n",
       "      <td>...</td>\n",
       "      <td>9.6</td>\n",
       "      <td>433.316718</td>\n",
       "      <td>0.0</td>\n",
       "      <td>0.0</td>\n",
       "      <td>1.0</td>\n",
       "      <td>AITKIN</td>\n",
       "      <td>27001.0</td>\n",
       "      <td>0.502054</td>\n",
       "      <td>0</td>\n",
       "      <td>1.098612</td>\n",
       "    </tr>\n",
       "    <tr>\n",
       "      <th>3</th>\n",
       "      <td>5084.0</td>\n",
       "      <td>MN</td>\n",
       "      <td>MN</td>\n",
       "      <td>27.0</td>\n",
       "      <td>56469</td>\n",
       "      <td>5.0</td>\n",
       "      <td>1.0</td>\n",
       "      <td>0.0</td>\n",
       "      <td>4.0</td>\n",
       "      <td>Y</td>\n",
       "      <td>...</td>\n",
       "      <td>24.3</td>\n",
       "      <td>461.623670</td>\n",
       "      <td>0.0</td>\n",
       "      <td>0.0</td>\n",
       "      <td>1.0</td>\n",
       "      <td>AITKIN</td>\n",
       "      <td>27001.0</td>\n",
       "      <td>0.502054</td>\n",
       "      <td>0</td>\n",
       "      <td>0.095310</td>\n",
       "    </tr>\n",
       "    <tr>\n",
       "      <th>4</th>\n",
       "      <td>5085.0</td>\n",
       "      <td>MN</td>\n",
       "      <td>MN</td>\n",
       "      <td>27.0</td>\n",
       "      <td>55011</td>\n",
       "      <td>3.0</td>\n",
       "      <td>1.0</td>\n",
       "      <td>0.0</td>\n",
       "      <td>4.0</td>\n",
       "      <td>Y</td>\n",
       "      <td>...</td>\n",
       "      <td>13.8</td>\n",
       "      <td>433.316718</td>\n",
       "      <td>0.0</td>\n",
       "      <td>0.0</td>\n",
       "      <td>3.0</td>\n",
       "      <td>ANOKA</td>\n",
       "      <td>27003.0</td>\n",
       "      <td>0.428565</td>\n",
       "      <td>1</td>\n",
       "      <td>1.163151</td>\n",
       "    </tr>\n",
       "  </tbody>\n",
       "</table>\n",
       "<p>5 rows × 29 columns</p>\n",
       "</div>"
      ],
      "text/plain": [
       "    idnum state state2  stfips    zip  region  typebldg  floor  room basement  \\\n",
       "0  5081.0    MN     MN    27.0  55735     5.0       1.0    1.0   3.0        N   \n",
       "1  5082.0    MN     MN    27.0  55748     5.0       1.0    0.0   4.0        Y   \n",
       "2  5083.0    MN     MN    27.0  55748     5.0       1.0    0.0   4.0        Y   \n",
       "3  5084.0    MN     MN    27.0  56469     5.0       1.0    0.0   4.0        Y   \n",
       "4  5085.0    MN     MN    27.0  55011     3.0       1.0    0.0   4.0        Y   \n",
       "\n",
       "   ... pcterr        adjwt  dupflag  zipflag  cntyfips  county     fips  \\\n",
       "0  ...    9.7  1146.499190      1.0      0.0       1.0  AITKIN  27001.0   \n",
       "1  ...   14.5   471.366223      0.0      0.0       1.0  AITKIN  27001.0   \n",
       "2  ...    9.6   433.316718      0.0      0.0       1.0  AITKIN  27001.0   \n",
       "3  ...   24.3   461.623670      0.0      0.0       1.0  AITKIN  27001.0   \n",
       "4  ...   13.8   433.316718      0.0      0.0       3.0   ANOKA  27003.0   \n",
       "\n",
       "       Uppm  county_code  log_radon  \n",
       "0  0.502054            0   0.832909  \n",
       "1  0.502054            0   0.832909  \n",
       "2  0.502054            0   1.098612  \n",
       "3  0.502054            0   0.095310  \n",
       "4  0.428565            1   1.163151  \n",
       "\n",
       "[5 rows x 29 columns]"
      ]
     },
     "execution_count": null,
     "metadata": {},
     "output_type": "execute_result"
    }
   ],
   "source": [
    "radon = pd.read_csv(\"data/radon.csv\", index_col=0)\n",
    "radon.head()"
   ]
  },
  {
   "cell_type": "code",
   "execution_count": null,
   "metadata": {},
   "outputs": [
    {
     "data": {
      "text/plain": [
       "<matplotlib.axes._subplots.AxesSubplot at 0x7efdd6e9f190>"
      ]
     },
     "execution_count": null,
     "metadata": {},
     "output_type": "execute_result"
    },
    {
     "data": {
      "image/png": "[encoded data removed]",
      "text/plain": [
       "<Figure size 432x288 with 1 Axes>"
      ]
     },
     "metadata": {
      "needs_background": "light"
     },
     "output_type": "display_data"
    }
   ],
   "source": [
    "# Select data for one county (HENNEPIN)\n",
    "hen_radon = radon.query('county==\"HENNEPIN\"').log_radon\n",
    "sns.distplot(hen_radon)"
   ]
  },
  {
   "cell_type": "code",
   "execution_count": null,
   "metadata": {},
   "outputs": [],
   "source": [
    "# Prior model\n",
    "from pymc3 import Model, Uniform\n",
    "\n",
    "with Model() as radon_model:\n",
    "    μ = Normal('μ', mu=0, sd=10)\n",
    "    σ = Uniform('σ', 0, 10)    "
   ]
  },
  {
   "cell_type": "code",
   "execution_count": null,
   "metadata": {},
   "outputs": [],
   "source": [
    "with radon_model:\n",
    "    y = Normal('y', mu=μ, sd=σ, observed=hen_radon)"
   ]
  },
  {
   "cell_type": "code",
   "execution_count": null,
   "metadata": {},
   "outputs": [
    {
     "data": {
      "text/html": [
       "\n",
       "    <div>\n",
       "        <style>\n",
       "            /* Turns off some styling */\n",
       "            progress {\n",
       "                /* gets rid of default border in Firefox and Opera. */\n",
       "                border: none;\n",
       "                /* Needs to be in here for Safari polyfill so background images work as expected. */\n",
       "                background-size: auto;\n",
       "            }\n",
       "            .progress-bar-interrupted, .progress-bar-interrupted::-webkit-progress-bar {\n",
       "                background: #F44336;\n",
       "            }\n",
       "        </style>\n",
       "      <progress value='10000' class='' max='10000' style='width:300px; height:20px; vertical-align: middle;'></progress>\n",
       "      100.00% [10000/10000 00:00<00:00 Average Loss = 136.48]\n",
       "    </div>\n",
       "    "
      ],
      "text/plain": [
       "<IPython.core.display.HTML object>"
      ]
     },
     "metadata": {},
     "output_type": "display_data"
    },
    {
     "name": "stderr",
     "output_type": "stream",
     "text": [
      "Finished [100%]: Average Loss = 136.37\n"
     ]
    }
   ],
   "source": [
    "from pymc3 import fit\n",
    "\n",
    "with radon_model:\n",
    "    samples = fit(random_seed=RANDOM_SEED).sample(1000)"
   ]
  },
  {
   "cell_type": "code",
   "execution_count": null,
   "metadata": {},
   "outputs": [
    {
     "data": {
      "image/png": "[encoded data removed]",
      "text/plain": [
       "<Figure size 432x288 with 1 Axes>"
      ]
     },
     "metadata": {
      "needs_background": "light"
     },
     "output_type": "display_data"
    }
   ],
   "source": [
    "from pymc3 import plot_posterior\n",
    "\n",
    "plot_posterior(samples, var_names=['μ'], ref_val=np.log(4), color='LightSeaGreen');"
   ]
  },
  {
   "cell_type": "code",
   "execution_count": null,
   "metadata": {},
   "outputs": [
    {
     "data": {
      "text/plain": [
       "{'_straces': {0: <pymc3.backends.ndarray.NDArray at 0x7efdcac424d0>},\n",
       " '_report': <pymc3.backends.report.SamplerReport at 0x7efdcbe9c810>}"
      ]
     },
     "execution_count": null,
     "metadata": {},
     "output_type": "execute_result"
    }
   ],
   "source": [
    "samples.__dict__"
   ]
  },
  {
   "cell_type": "markdown",
   "metadata": {},
   "source": [
    "#### Prediction\n",
    "$$p(z |y) = \\int_{\\theta} p(z |\\theta) p(\\theta | y) d\\theta$$"
   ]
  },
  {
   "cell_type": "code",
   "execution_count": null,
   "metadata": {},
   "outputs": [],
   "source": [
    "# Prediction\n",
    "mus = samples['μ']\n",
    "sigmas = samples['σ']\n",
    "radon_samples = Normal.dist(mus, sigmas).random()"
   ]
  },
  {
   "cell_type": "code",
   "execution_count": null,
   "metadata": {},
   "outputs": [
    {
     "data": {
      "text/plain": [
       "0.441"
      ]
     },
     "execution_count": null,
     "metadata": {},
     "output_type": "execute_result"
    }
   ],
   "source": [
    "(radon_samples > np.log(4)).mean()"
   ]
  },
  {
   "cell_type": "code",
   "execution_count": null,
   "metadata": {},
   "outputs": [
    {
     "data": {
      "text/plain": [
       "<matplotlib.legend.Legend at 0x7efdc5dd0390>"
      ]
     },
     "execution_count": null,
     "metadata": {},
     "output_type": "execute_result"
    },
    {
     "data": {
      "image/png": "[encoded data removed]",
      "text/plain": [
       "<Figure size 432x288 with 1 Axes>"
      ]
     },
     "metadata": {
      "needs_background": "light"
     },
     "output_type": "display_data"
    }
   ],
   "source": [
    "# Model checking\n",
    "sns.distplot(radon_samples, label='simulated')\n",
    "sns.distplot(hen_radon, label='observed')\n",
    "plt.legend()"
   ]
  },
  {
   "cell_type": "code",
   "execution_count": null,
   "metadata": {},
   "outputs": [
    {
     "data": {
      "text/html": [
       "\n",
       "    <div>\n",
       "        <style>\n",
       "            /* Turns off some styling */\n",
       "            progress {\n",
       "                /* gets rid of default border in Firefox and Opera. */\n",
       "                border: none;\n",
       "                /* Needs to be in here for Safari polyfill so background images work as expected. */\n",
       "                background-size: auto;\n",
       "            }\n",
       "            .progress-bar-interrupted, .progress-bar-interrupted::-webkit-progress-bar {\n",
       "                background: #F44336;\n",
       "            }\n",
       "        </style>\n",
       "      <progress value='10000' class='' max='10000' style='width:300px; height:20px; vertical-align: middle;'></progress>\n",
       "      100.00% [10000/10000 00:00<00:00 Average Loss = 123.98]\n",
       "    </div>\n",
       "    "
      ],
      "text/plain": [
       "<IPython.core.display.HTML object>"
      ]
     },
     "metadata": {},
     "output_type": "display_data"
    },
    {
     "name": "stderr",
     "output_type": "stream",
     "text": [
      "Finished [100%]: Average Loss = 123.94\n"
     ]
    }
   ],
   "source": [
    "# Prior sensitivity\n",
    "from pymc3 import Flat, HalfCauchy\n",
    "\n",
    "with Model() as prior_sensitivity:\n",
    "    μ = Flat('μ')\n",
    "    σ = HalfCauchy('σ', 5)\n",
    "    \n",
    "    dist = Normal('dist', mu=μ, sd=σ, observed=hen_radon)\n",
    "    sensitivity_samples = fit(random_seed=RANDOM_SEED).sample(1000)"
   ]
  },
  {
   "cell_type": "code",
   "execution_count": null,
   "metadata": {},
   "outputs": [
    {
     "data": {
      "text/plain": [
       "array([<matplotlib.axes._subplots.AxesSubplot object at 0x7efe0dd1d550>],\n",
       "      dtype=object)"
      ]
     },
     "execution_count": null,
     "metadata": {},
     "output_type": "execute_result"
    },
    {
     "data": {
      "image/png": "[encoded data removed]",
      "text/plain": [
       "<Figure size 432x288 with 1 Axes>"
      ]
     },
     "metadata": {
      "needs_background": "light"
     },
     "output_type": "display_data"
    }
   ],
   "source": [
    "plot_posterior(sensitivity_samples, var_names=['μ'], ref_val=np.log(4), color='LightSeaGreen')"
   ]
  },
  {
   "cell_type": "code",
   "execution_count": null,
   "metadata": {},
   "outputs": [
    {
     "data": {
      "text/plain": [
       "array([<matplotlib.axes._subplots.AxesSubplot object at 0x7efe0d1f0950>],\n",
       "      dtype=object)"
      ]
     },
     "execution_count": null,
     "metadata": {},
     "output_type": "execute_result"
    },
    {
     "data": {
      "image/png": "[encoded data removed]",
      "text/plain": [
       "<Figure size 432x288 with 1 Axes>"
      ]
     },
     "metadata": {
      "needs_background": "light"
     },
     "output_type": "display_data"
    }
   ],
   "source": [
    "plot_posterior(samples, var_names=['μ'], ref_val=np.log(4), color='LightSeaGreen')"
   ]
  },
  {
   "cell_type": "markdown",
   "metadata": {},
   "source": [
    "## III. Two Groups with Continiuous Outcome"
   ]
  },
  {
   "cell_type": "code",
   "execution_count": null,
   "metadata": {},
   "outputs": [
    {
     "data": {
      "image/png": "[encoded data removed]",
      "text/plain": [
       "<Figure size 432x288 with 2 Axes>"
      ]
     },
     "metadata": {
      "needs_background": "light"
     },
     "output_type": "display_data"
    }
   ],
   "source": [
    "drug = pd.DataFrame(dict(iq=(101,100,102,104,102,97,105,105,98,101,100,123,105,103,100,95,102,106,\n",
    "        109,102,82,102,100,102,102,101,102,102,103,103,97,97,103,101,97,104,\n",
    "        96,103,124,101,101,100,101,101,104,100,101),\n",
    "                         group='drug'))\n",
    "placebo = pd.DataFrame(dict(iq=(99,101,100,101,102,100,97,101,104,101,102,102,100,105,88,101,100,\n",
    "           104,100,100,100,101,102,103,97,101,101,100,101,99,101,100,100,\n",
    "           101,100,99,101,100,102,99,100,99),\n",
    "                            group='placebo'))\n",
    "\n",
    "trial_data = pd.concat([drug, placebo], ignore_index=True)\n",
    "trial_data.hist('iq', by='group');"
   ]
  },
  {
   "cell_type": "code",
   "execution_count": null,
   "metadata": {},
   "outputs": [],
   "source": [
    "# Draw 10000 samples from a Student-T distribution\n",
    "from pymc3 import StudentT\n",
    "\n",
    "t = StudentT.dist(nu=3).random(size=10000)\n",
    "n = Normal.dist(0, 1).random(size=10000)"
   ]
  },
  {
   "cell_type": "code",
   "execution_count": null,
   "metadata": {},
   "outputs": [
    {
     "data": {
      "text/plain": [
       "(-10.0, 10.0)"
      ]
     },
     "execution_count": null,
     "metadata": {},
     "output_type": "execute_result"
    },
    {
     "data": {
      "image/png": "[encoded data removed]",
      "text/plain": [
       "<Figure size 432x288 with 1 Axes>"
      ]
     },
     "metadata": {
      "needs_background": "light"
     },
     "output_type": "display_data"
    }
   ],
   "source": [
    "sns.distplot(t, label='Student-T')\n",
    "sns.distplot(n, label='Normal')\n",
    "plt.legend()\n",
    "plt.xlim(-10,10)"
   ]
  },
  {
   "cell_type": "markdown",
   "metadata": {},
   "source": [
    "#### Prior choice\n",
    "\n",
    "$$\\mu_k \\sim N(100, 10^2)$$"
   ]
  },
  {
   "cell_type": "code",
   "execution_count": null,
   "metadata": {},
   "outputs": [],
   "source": [
    "with Model() as drug_model:\n",
    "    μ_0 = Normal('μ_0', mu=100, sd=10)\n",
    "    μ_1 = Normal('μ_1', mu=100, sd=10)"
   ]
  },
  {
   "cell_type": "code",
   "execution_count": null,
   "metadata": {},
   "outputs": [],
   "source": [
    "with drug_model:\n",
    "    σ_0 = Uniform('σ_0', lower=0, upper=20)\n",
    "    σ_1 = Uniform('σ_1', lower=0, upper=20)"
   ]
  },
  {
   "cell_type": "code",
   "execution_count": null,
   "metadata": {},
   "outputs": [],
   "source": [
    "from pymc3 import Exponential\n",
    "\n",
    "with drug_model:\n",
    "    ν = Exponential('ν_minus_one', 1/20.) + 1\n",
    "    \n",
    "    drug_like = StudentT('drug_like', nu=ν, mu=μ_1, lam=σ_1**-2, observed=drug.iq)\n",
    "    placebo_link = StudentT('placebo_like', nu=ν, mu=μ_0, lam=σ_0**-2, observed=placebo.iq)"
   ]
  },
  {
   "cell_type": "code",
   "execution_count": null,
   "metadata": {},
   "outputs": [],
   "source": [
    "# Difference of means\n",
    "from pymc3 import Deterministic\n",
    "\n",
    "with drug_model:\n",
    "    diff_of_means = Deterministic('difference of means', μ_1 - μ_0)\n",
    "    effect_size = Deterministic('effect size',\n",
    "                               diff_of_means/np.sqrt((σ_1**2 + σ_0**2)/2))"
   ]
  },
  {
   "cell_type": "code",
   "execution_count": null,
   "metadata": {},
   "outputs": [],
   "source": [
    "with drug_model:\n",
    "    drug_trace = fit(random_seed=RANDOM_SEED).sample(1000)\n",
    "    \n",
    "plot_posterior(drug_trace[100:], color='#87ceeb',\n",
    "               var_names=['μ_0', 'μ_1', 'σ_0', 'σ_1', 'ν_minus_one'])"
   ]
  },
  {
   "cell_type": "code",
   "execution_count": null,
   "metadata": {},
   "outputs": [],
   "source": [
    "plot_posterior(drug_trace[100:], ref_val=0,\n",
    "               var_names=['difference of means', 'effect size'])"
   ]
  },
  {
   "cell_type": "code",
   "execution_count": null,
   "metadata": {},
   "outputs": [],
   "source": []
  }
 ],
 "metadata": {
  "kernelspec": {
   "display_name": "Python 3",
   "language": "python",
   "name": "python3"
  }
 },
 "nbformat": 4,
 "nbformat_minor": 5
}
