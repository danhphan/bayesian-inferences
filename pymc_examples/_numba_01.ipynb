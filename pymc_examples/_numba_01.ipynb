{
 "cells": [
  {
   "cell_type": "code",
   "execution_count": null,
   "id": "b4dfa74b",
   "metadata": {},
   "outputs": [],
   "source": [
    "# !pip install numba"
   ]
  },
  {
   "cell_type": "code",
   "execution_count": null,
   "id": "dd701c24",
   "metadata": {},
   "outputs": [],
   "source": [
    "from numba import jit\n",
    "import random"
   ]
  },
  {
   "cell_type": "code",
   "execution_count": null,
   "id": "4cb185ea",
   "metadata": {},
   "outputs": [],
   "source": [
    "def monte_carlo_pi(nsamples):\n",
    "    acc = 0\n",
    "    for i in range(nsamples):\n",
    "        x = random.random()\n",
    "        y = random.random()\n",
    "        if (x ** 2 + y ** 2) < 1.0:\n",
    "            acc += 1\n",
    "    return 4.0 * acc / nsamples"
   ]
  },
  {
   "cell_type": "code",
   "execution_count": null,
   "id": "e35bb1ad",
   "metadata": {},
   "outputs": [
    {
     "name": "stdout",
     "output_type": "stream",
     "text": [
      "CPU times: user 254 ms, sys: 0 ns, total: 254 ms\n",
      "Wall time: 253 ms\n"
     ]
    },
    {
     "data": {
      "text/plain": [
       "3.145516"
      ]
     },
     "execution_count": null,
     "metadata": {},
     "output_type": "execute_result"
    }
   ],
   "source": [
    "%%time\n",
    "monte_carlo_pi(1000000)"
   ]
  },
  {
   "cell_type": "code",
   "execution_count": null,
   "id": "59bbfa87",
   "metadata": {},
   "outputs": [],
   "source": [
    "monte_carlo_pi_jit = jit()(monte_carlo_pi)"
   ]
  },
  {
   "cell_type": "code",
   "execution_count": null,
   "id": "78e9ceef",
   "metadata": {},
   "outputs": [
    {
     "name": "stdout",
     "output_type": "stream",
     "text": [
      "CPU times: user 73 µs, sys: 0 ns, total: 73 µs\n",
      "Wall time: 75.6 µs\n"
     ]
    },
    {
     "data": {
      "text/plain": [
       "3.1392"
      ]
     },
     "execution_count": null,
     "metadata": {},
     "output_type": "execute_result"
    }
   ],
   "source": [
    "%time monte_carlo_pi_jit(10000)"
   ]
  },
  {
   "cell_type": "code",
   "execution_count": null,
   "id": "dbf22329",
   "metadata": {},
   "outputs": [
    {
     "name": "stdout",
     "output_type": "stream",
     "text": [
      "CPU times: user 8.08 ms, sys: 0 ns, total: 8.08 ms\n",
      "Wall time: 7.9 ms\n"
     ]
    },
    {
     "data": {
      "text/plain": [
       "3.138672"
      ]
     },
     "execution_count": null,
     "metadata": {},
     "output_type": "execute_result"
    }
   ],
   "source": [
    "%time monte_carlo_pi_jit(1000000)"
   ]
  },
  {
   "cell_type": "code",
   "execution_count": null,
   "id": "dde3a73d",
   "metadata": {},
   "outputs": [
    {
     "name": "stdout",
     "output_type": "stream",
     "text": [
      "Populating the interactive namespace from numpy and matplotlib\n"
     ]
    },
    {
     "name": "stderr",
     "output_type": "stream",
     "text": [
      "/home/danph/Repos/win_ssd/myprojects/m3actgen/.venv/lib/python3.8/site-packages/IPython/core/magics/pylab.py:159: UserWarning: pylab import has clobbered these variables: ['random']\n",
      "`%matplotlib` prevents importing * from pylab and numpy\n",
      "  warn(\"pylab import has clobbered these variables: %s\"  % clobbered +\n"
     ]
    }
   ],
   "source": [
    "%pylab inline"
   ]
  },
  {
   "cell_type": "code",
   "execution_count": null,
   "id": "87e231f3",
   "metadata": {},
   "outputs": [],
   "source": [
    "from numba import jit, njit, vectorize"
   ]
  },
  {
   "cell_type": "code",
   "execution_count": null,
   "id": "1ea22970",
   "metadata": {},
   "outputs": [],
   "source": [
    "def original_func(input_list):\n",
    "    output_list = np.zeros_like(input_list)\n",
    "    for ii, item in enumerate(input_list):\n",
    "        if item % 2 == 0:\n",
    "            output_list[ii] = (2)\n",
    "        else:\n",
    "            output_list[ii] = (1)\n",
    "    return output_list\n",
    "\n",
    "# test_array = list(range(100000))\n",
    "test_array = np.arange(100000)"
   ]
  },
  {
   "cell_type": "code",
   "execution_count": null,
   "id": "c991141e",
   "metadata": {},
   "outputs": [
    {
     "name": "stdout",
     "output_type": "stream",
     "text": [
      "CPU times: user 46.4 ms, sys: 0 ns, total: 46.4 ms\n",
      "Wall time: 45 ms\n"
     ]
    }
   ],
   "source": [
    "%time _ = original_func(test_array)"
   ]
  },
  {
   "cell_type": "code",
   "execution_count": null,
   "id": "e4dc931d",
   "metadata": {},
   "outputs": [],
   "source": [
    "jitted_func = njit()(original_func)"
   ]
  },
  {
   "cell_type": "code",
   "execution_count": null,
   "id": "3b6be761",
   "metadata": {},
   "outputs": [
    {
     "name": "stdout",
     "output_type": "stream",
     "text": [
      "CPU times: user 161 µs, sys: 0 ns, total: 161 µs\n",
      "Wall time: 163 µs\n"
     ]
    }
   ],
   "source": [
    "%time _ = jitted_func(test_array)"
   ]
  },
  {
   "cell_type": "code",
   "execution_count": null,
   "id": "f58d9439",
   "metadata": {},
   "outputs": [],
   "source": [
    "@vectorize\n",
    "def scalar_compu(num):\n",
    "    if num % 2 == 0:\n",
    "        return 2\n",
    "    else:\n",
    "        return 1"
   ]
  },
  {
   "cell_type": "code",
   "execution_count": null,
   "id": "f9a84230",
   "metadata": {},
   "outputs": [
    {
     "name": "stdout",
     "output_type": "stream",
     "text": [
      "CPU times: user 282 µs, sys: 81 µs, total: 363 µs\n",
      "Wall time: 170 µs\n"
     ]
    }
   ],
   "source": [
    "%time _ = scalar_compu(test_array)"
   ]
  }
 ],
 "metadata": {
  "kernelspec": {
   "display_name": "Python 3",
   "language": "python",
   "name": "python3"
  }
 },
 "nbformat": 4,
 "nbformat_minor": 5
}
