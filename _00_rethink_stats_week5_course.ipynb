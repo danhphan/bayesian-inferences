{
 "cells": [
  {
   "cell_type": "code",
   "execution_count": null,
   "metadata": {},
   "outputs": [],
   "source": [
    "import warnings\n",
    "\n",
    "import arviz as az\n",
    "import matplotlib.pyplot as plt\n",
    "import numpy as np\n",
    "import pandas as pd\n",
    "import pymc3 as pm\n",
    "import seaborn as sns\n",
    "\n",
    "from scipy import stats"
   ]
  },
  {
   "cell_type": "code",
   "execution_count": null,
   "metadata": {},
   "outputs": [],
   "source": [
    "warnings.filterwarnings(\"ignore\", category=FutureWarning)"
   ]
  },
  {
   "cell_type": "code",
   "execution_count": null,
   "metadata": {},
   "outputs": [],
   "source": [
    "%matplotlib inline"
   ]
  },
  {
   "cell_type": "code",
   "execution_count": null,
   "metadata": {},
   "outputs": [
    {
     "data": {
      "text/plain": [
       "(234, 51)"
      ]
     },
     "execution_count": null,
     "metadata": {},
     "output_type": "execute_result"
    }
   ],
   "source": [
    "df = pd.read_csv(\"data/rugged.csv\", delimiter=\";\")\n",
    "df.shape"
   ]
  },
  {
   "cell_type": "code",
   "execution_count": null,
   "metadata": {},
   "outputs": [
    {
     "data": {
      "text/html": [
       "<div>\n",
       "<style scoped>\n",
       "    .dataframe tbody tr th:only-of-type {\n",
       "        vertical-align: middle;\n",
       "    }\n",
       "\n",
       "    .dataframe tbody tr th {\n",
       "        vertical-align: top;\n",
       "    }\n",
       "\n",
       "    .dataframe thead th {\n",
       "        text-align: right;\n",
       "    }\n",
       "</style>\n",
       "<table border=\"1\" class=\"dataframe\">\n",
       "  <thead>\n",
       "    <tr style=\"text-align: right;\">\n",
       "      <th></th>\n",
       "      <th>0</th>\n",
       "      <th>1</th>\n",
       "      <th>2</th>\n",
       "      <th>3</th>\n",
       "      <th>4</th>\n",
       "    </tr>\n",
       "  </thead>\n",
       "  <tbody>\n",
       "    <tr>\n",
       "      <th>isocode</th>\n",
       "      <td>ABW</td>\n",
       "      <td>AFG</td>\n",
       "      <td>AGO</td>\n",
       "      <td>AIA</td>\n",
       "      <td>ALB</td>\n",
       "    </tr>\n",
       "    <tr>\n",
       "      <th>isonum</th>\n",
       "      <td>533</td>\n",
       "      <td>4</td>\n",
       "      <td>24</td>\n",
       "      <td>660</td>\n",
       "      <td>8</td>\n",
       "    </tr>\n",
       "    <tr>\n",
       "      <th>country</th>\n",
       "      <td>Aruba</td>\n",
       "      <td>Afghanistan</td>\n",
       "      <td>Angola</td>\n",
       "      <td>Anguilla</td>\n",
       "      <td>Albania</td>\n",
       "    </tr>\n",
       "    <tr>\n",
       "      <th>rugged</th>\n",
       "      <td>0.462</td>\n",
       "      <td>2.518</td>\n",
       "      <td>0.858</td>\n",
       "      <td>0.013</td>\n",
       "      <td>3.427</td>\n",
       "    </tr>\n",
       "    <tr>\n",
       "      <th>rugged_popw</th>\n",
       "      <td>0.38</td>\n",
       "      <td>1.469</td>\n",
       "      <td>0.714</td>\n",
       "      <td>0.01</td>\n",
       "      <td>1.597</td>\n",
       "    </tr>\n",
       "    <tr>\n",
       "      <th>rugged_slope</th>\n",
       "      <td>1.226</td>\n",
       "      <td>7.414</td>\n",
       "      <td>2.274</td>\n",
       "      <td>0.026</td>\n",
       "      <td>10.451</td>\n",
       "    </tr>\n",
       "    <tr>\n",
       "      <th>rugged_lsd</th>\n",
       "      <td>0.144</td>\n",
       "      <td>0.72</td>\n",
       "      <td>0.228</td>\n",
       "      <td>0.006</td>\n",
       "      <td>1.006</td>\n",
       "    </tr>\n",
       "    <tr>\n",
       "      <th>rugged_pc</th>\n",
       "      <td>0</td>\n",
       "      <td>39.004</td>\n",
       "      <td>4.906</td>\n",
       "      <td>0</td>\n",
       "      <td>62.133</td>\n",
       "    </tr>\n",
       "    <tr>\n",
       "      <th>land_area</th>\n",
       "      <td>18</td>\n",
       "      <td>65209</td>\n",
       "      <td>124670</td>\n",
       "      <td>9</td>\n",
       "      <td>2740</td>\n",
       "    </tr>\n",
       "    <tr>\n",
       "      <th>lat</th>\n",
       "      <td>12.508</td>\n",
       "      <td>33.833</td>\n",
       "      <td>-12.299</td>\n",
       "      <td>18.231</td>\n",
       "      <td>41.143</td>\n",
       "    </tr>\n",
       "    <tr>\n",
       "      <th>lon</th>\n",
       "      <td>-69.97</td>\n",
       "      <td>66.026</td>\n",
       "      <td>17.551</td>\n",
       "      <td>-63.064</td>\n",
       "      <td>20.07</td>\n",
       "    </tr>\n",
       "    <tr>\n",
       "      <th>soil</th>\n",
       "      <td>21.324</td>\n",
       "      <td>27.849</td>\n",
       "      <td>26.676</td>\n",
       "      <td>100</td>\n",
       "      <td>68.088</td>\n",
       "    </tr>\n",
       "    <tr>\n",
       "      <th>desert</th>\n",
       "      <td>0</td>\n",
       "      <td>4.356</td>\n",
       "      <td>0.425</td>\n",
       "      <td>0</td>\n",
       "      <td>0</td>\n",
       "    </tr>\n",
       "    <tr>\n",
       "      <th>tropical</th>\n",
       "      <td>100</td>\n",
       "      <td>0</td>\n",
       "      <td>44.346</td>\n",
       "      <td>100</td>\n",
       "      <td>0</td>\n",
       "    </tr>\n",
       "    <tr>\n",
       "      <th>dist_coast</th>\n",
       "      <td>0.001</td>\n",
       "      <td>0.922</td>\n",
       "      <td>0.428</td>\n",
       "      <td>0</td>\n",
       "      <td>0.048</td>\n",
       "    </tr>\n",
       "    <tr>\n",
       "      <th>near_coast</th>\n",
       "      <td>100</td>\n",
       "      <td>0</td>\n",
       "      <td>13.1587</td>\n",
       "      <td>100</td>\n",
       "      <td>94.6919</td>\n",
       "    </tr>\n",
       "    <tr>\n",
       "      <th>gemstones</th>\n",
       "      <td>0</td>\n",
       "      <td>0</td>\n",
       "      <td>47756</td>\n",
       "      <td>0</td>\n",
       "      <td>0</td>\n",
       "    </tr>\n",
       "    <tr>\n",
       "      <th>rgdppc_2000</th>\n",
       "      <td>NaN</td>\n",
       "      <td>NaN</td>\n",
       "      <td>1794.73</td>\n",
       "      <td>NaN</td>\n",
       "      <td>3703.11</td>\n",
       "    </tr>\n",
       "    <tr>\n",
       "      <th>rgdppc_1950_m</th>\n",
       "      <td>NaN</td>\n",
       "      <td>644.756</td>\n",
       "      <td>1051.82</td>\n",
       "      <td>NaN</td>\n",
       "      <td>1001.34</td>\n",
       "    </tr>\n",
       "    <tr>\n",
       "      <th>rgdppc_1975_m</th>\n",
       "      <td>NaN</td>\n",
       "      <td>720.633</td>\n",
       "      <td>1073.04</td>\n",
       "      <td>NaN</td>\n",
       "      <td>2289.47</td>\n",
       "    </tr>\n",
       "    <tr>\n",
       "      <th>rgdppc_2000_m</th>\n",
       "      <td>NaN</td>\n",
       "      <td>565.231</td>\n",
       "      <td>765.215</td>\n",
       "      <td>NaN</td>\n",
       "      <td>2741.42</td>\n",
       "    </tr>\n",
       "    <tr>\n",
       "      <th>rgdppc_1950_2000_m</th>\n",
       "      <td>NaN</td>\n",
       "      <td>679.791</td>\n",
       "      <td>1106.76</td>\n",
       "      <td>NaN</td>\n",
       "      <td>1931.78</td>\n",
       "    </tr>\n",
       "    <tr>\n",
       "      <th>q_rule_law</th>\n",
       "      <td>NaN</td>\n",
       "      <td>-1.687</td>\n",
       "      <td>-1.567</td>\n",
       "      <td>NaN</td>\n",
       "      <td>-0.82</td>\n",
       "    </tr>\n",
       "    <tr>\n",
       "      <th>cont_africa</th>\n",
       "      <td>0</td>\n",
       "      <td>0</td>\n",
       "      <td>1</td>\n",
       "      <td>0</td>\n",
       "      <td>0</td>\n",
       "    </tr>\n",
       "    <tr>\n",
       "      <th>cont_asia</th>\n",
       "      <td>0</td>\n",
       "      <td>1</td>\n",
       "      <td>0</td>\n",
       "      <td>0</td>\n",
       "      <td>0</td>\n",
       "    </tr>\n",
       "    <tr>\n",
       "      <th>cont_europe</th>\n",
       "      <td>0</td>\n",
       "      <td>0</td>\n",
       "      <td>0</td>\n",
       "      <td>0</td>\n",
       "      <td>1</td>\n",
       "    </tr>\n",
       "    <tr>\n",
       "      <th>cont_oceania</th>\n",
       "      <td>0</td>\n",
       "      <td>0</td>\n",
       "      <td>0</td>\n",
       "      <td>0</td>\n",
       "      <td>0</td>\n",
       "    </tr>\n",
       "    <tr>\n",
       "      <th>cont_north_america</th>\n",
       "      <td>1</td>\n",
       "      <td>0</td>\n",
       "      <td>0</td>\n",
       "      <td>1</td>\n",
       "      <td>0</td>\n",
       "    </tr>\n",
       "    <tr>\n",
       "      <th>cont_south_america</th>\n",
       "      <td>0</td>\n",
       "      <td>0</td>\n",
       "      <td>0</td>\n",
       "      <td>0</td>\n",
       "      <td>0</td>\n",
       "    </tr>\n",
       "    <tr>\n",
       "      <th>legor_gbr</th>\n",
       "      <td>0</td>\n",
       "      <td>0</td>\n",
       "      <td>0</td>\n",
       "      <td>NaN</td>\n",
       "      <td>0</td>\n",
       "    </tr>\n",
       "    <tr>\n",
       "      <th>legor_fra</th>\n",
       "      <td>1</td>\n",
       "      <td>1</td>\n",
       "      <td>1</td>\n",
       "      <td>NaN</td>\n",
       "      <td>0</td>\n",
       "    </tr>\n",
       "    <tr>\n",
       "      <th>legor_soc</th>\n",
       "      <td>0</td>\n",
       "      <td>0</td>\n",
       "      <td>0</td>\n",
       "      <td>NaN</td>\n",
       "      <td>1</td>\n",
       "    </tr>\n",
       "    <tr>\n",
       "      <th>legor_deu</th>\n",
       "      <td>0</td>\n",
       "      <td>0</td>\n",
       "      <td>0</td>\n",
       "      <td>NaN</td>\n",
       "      <td>0</td>\n",
       "    </tr>\n",
       "    <tr>\n",
       "      <th>legor_sca</th>\n",
       "      <td>0</td>\n",
       "      <td>0</td>\n",
       "      <td>0</td>\n",
       "      <td>NaN</td>\n",
       "      <td>0</td>\n",
       "    </tr>\n",
       "    <tr>\n",
       "      <th>colony_esp</th>\n",
       "      <td>0</td>\n",
       "      <td>0</td>\n",
       "      <td>0</td>\n",
       "      <td>0</td>\n",
       "      <td>0</td>\n",
       "    </tr>\n",
       "    <tr>\n",
       "      <th>colony_gbr</th>\n",
       "      <td>0</td>\n",
       "      <td>0</td>\n",
       "      <td>0</td>\n",
       "      <td>0</td>\n",
       "      <td>0</td>\n",
       "    </tr>\n",
       "    <tr>\n",
       "      <th>colony_fra</th>\n",
       "      <td>0</td>\n",
       "      <td>0</td>\n",
       "      <td>0</td>\n",
       "      <td>0</td>\n",
       "      <td>0</td>\n",
       "    </tr>\n",
       "    <tr>\n",
       "      <th>colony_prt</th>\n",
       "      <td>0</td>\n",
       "      <td>0</td>\n",
       "      <td>1</td>\n",
       "      <td>0</td>\n",
       "      <td>0</td>\n",
       "    </tr>\n",
       "    <tr>\n",
       "      <th>colony_oeu</th>\n",
       "      <td>0</td>\n",
       "      <td>0</td>\n",
       "      <td>0</td>\n",
       "      <td>0</td>\n",
       "      <td>0</td>\n",
       "    </tr>\n",
       "    <tr>\n",
       "      <th>africa_region_n</th>\n",
       "      <td>0</td>\n",
       "      <td>0</td>\n",
       "      <td>0</td>\n",
       "      <td>0</td>\n",
       "      <td>0</td>\n",
       "    </tr>\n",
       "    <tr>\n",
       "      <th>africa_region_s</th>\n",
       "      <td>0</td>\n",
       "      <td>0</td>\n",
       "      <td>0</td>\n",
       "      <td>0</td>\n",
       "      <td>0</td>\n",
       "    </tr>\n",
       "    <tr>\n",
       "      <th>africa_region_w</th>\n",
       "      <td>0</td>\n",
       "      <td>0</td>\n",
       "      <td>0</td>\n",
       "      <td>0</td>\n",
       "      <td>0</td>\n",
       "    </tr>\n",
       "    <tr>\n",
       "      <th>africa_region_e</th>\n",
       "      <td>0</td>\n",
       "      <td>0</td>\n",
       "      <td>0</td>\n",
       "      <td>0</td>\n",
       "      <td>0</td>\n",
       "    </tr>\n",
       "    <tr>\n",
       "      <th>africa_region_c</th>\n",
       "      <td>0</td>\n",
       "      <td>0</td>\n",
       "      <td>1</td>\n",
       "      <td>0</td>\n",
       "      <td>0</td>\n",
       "    </tr>\n",
       "    <tr>\n",
       "      <th>slave_exports</th>\n",
       "      <td>0</td>\n",
       "      <td>0</td>\n",
       "      <td>3.61e+06</td>\n",
       "      <td>0</td>\n",
       "      <td>0</td>\n",
       "    </tr>\n",
       "    <tr>\n",
       "      <th>dist_slavemkt_atlantic</th>\n",
       "      <td>NaN</td>\n",
       "      <td>NaN</td>\n",
       "      <td>5.669</td>\n",
       "      <td>NaN</td>\n",
       "      <td>NaN</td>\n",
       "    </tr>\n",
       "    <tr>\n",
       "      <th>dist_slavemkt_indian</th>\n",
       "      <td>NaN</td>\n",
       "      <td>NaN</td>\n",
       "      <td>6.981</td>\n",
       "      <td>NaN</td>\n",
       "      <td>NaN</td>\n",
       "    </tr>\n",
       "    <tr>\n",
       "      <th>dist_slavemkt_saharan</th>\n",
       "      <td>NaN</td>\n",
       "      <td>NaN</td>\n",
       "      <td>4.926</td>\n",
       "      <td>NaN</td>\n",
       "      <td>NaN</td>\n",
       "    </tr>\n",
       "    <tr>\n",
       "      <th>dist_slavemkt_redsea</th>\n",
       "      <td>NaN</td>\n",
       "      <td>NaN</td>\n",
       "      <td>3.872</td>\n",
       "      <td>NaN</td>\n",
       "      <td>NaN</td>\n",
       "    </tr>\n",
       "    <tr>\n",
       "      <th>pop_1400</th>\n",
       "      <td>614</td>\n",
       "      <td>1.87083e+06</td>\n",
       "      <td>1.22321e+06</td>\n",
       "      <td>NaN</td>\n",
       "      <td>200000</td>\n",
       "    </tr>\n",
       "    <tr>\n",
       "      <th>european_descent</th>\n",
       "      <td>NaN</td>\n",
       "      <td>0</td>\n",
       "      <td>2</td>\n",
       "      <td>NaN</td>\n",
       "      <td>100</td>\n",
       "    </tr>\n",
       "  </tbody>\n",
       "</table>\n",
       "</div>"
      ],
      "text/plain": [
       "                             0            1            2         3        4\n",
       "isocode                    ABW          AFG          AGO       AIA      ALB\n",
       "isonum                     533            4           24       660        8\n",
       "country                  Aruba  Afghanistan       Angola  Anguilla  Albania\n",
       "rugged                   0.462        2.518        0.858     0.013    3.427\n",
       "rugged_popw               0.38        1.469        0.714      0.01    1.597\n",
       "rugged_slope             1.226        7.414        2.274     0.026   10.451\n",
       "rugged_lsd               0.144         0.72        0.228     0.006    1.006\n",
       "rugged_pc                    0       39.004        4.906         0   62.133\n",
       "land_area                   18        65209       124670         9     2740\n",
       "lat                     12.508       33.833      -12.299    18.231   41.143\n",
       "lon                     -69.97       66.026       17.551   -63.064    20.07\n",
       "soil                    21.324       27.849       26.676       100   68.088\n",
       "desert                       0        4.356        0.425         0        0\n",
       "tropical                   100            0       44.346       100        0\n",
       "dist_coast               0.001        0.922        0.428         0    0.048\n",
       "near_coast                 100            0      13.1587       100  94.6919\n",
       "gemstones                    0            0        47756         0        0\n",
       "rgdppc_2000                NaN          NaN      1794.73       NaN  3703.11\n",
       "rgdppc_1950_m              NaN      644.756      1051.82       NaN  1001.34\n",
       "rgdppc_1975_m              NaN      720.633      1073.04       NaN  2289.47\n",
       "rgdppc_2000_m              NaN      565.231      765.215       NaN  2741.42\n",
       "rgdppc_1950_2000_m         NaN      679.791      1106.76       NaN  1931.78\n",
       "q_rule_law                 NaN       -1.687       -1.567       NaN    -0.82\n",
       "cont_africa                  0            0            1         0        0\n",
       "cont_asia                    0            1            0         0        0\n",
       "cont_europe                  0            0            0         0        1\n",
       "cont_oceania                 0            0            0         0        0\n",
       "cont_north_america           1            0            0         1        0\n",
       "cont_south_america           0            0            0         0        0\n",
       "legor_gbr                    0            0            0       NaN        0\n",
       "legor_fra                    1            1            1       NaN        0\n",
       "legor_soc                    0            0            0       NaN        1\n",
       "legor_deu                    0            0            0       NaN        0\n",
       "legor_sca                    0            0            0       NaN        0\n",
       "colony_esp                   0            0            0         0        0\n",
       "colony_gbr                   0            0            0         0        0\n",
       "colony_fra                   0            0            0         0        0\n",
       "colony_prt                   0            0            1         0        0\n",
       "colony_oeu                   0            0            0         0        0\n",
       "africa_region_n              0            0            0         0        0\n",
       "africa_region_s              0            0            0         0        0\n",
       "africa_region_w              0            0            0         0        0\n",
       "africa_region_e              0            0            0         0        0\n",
       "africa_region_c              0            0            1         0        0\n",
       "slave_exports                0            0     3.61e+06         0        0\n",
       "dist_slavemkt_atlantic     NaN          NaN        5.669       NaN      NaN\n",
       "dist_slavemkt_indian       NaN          NaN        6.981       NaN      NaN\n",
       "dist_slavemkt_saharan      NaN          NaN        4.926       NaN      NaN\n",
       "dist_slavemkt_redsea       NaN          NaN        3.872       NaN      NaN\n",
       "pop_1400                   614  1.87083e+06  1.22321e+06       NaN   200000\n",
       "european_descent           NaN            0            2       NaN      100"
      ]
     },
     "execution_count": null,
     "metadata": {},
     "output_type": "execute_result"
    }
   ],
   "source": [
    "df.head().T"
   ]
  },
  {
   "cell_type": "code",
   "execution_count": null,
   "metadata": {},
   "outputs": [
    {
     "data": {
      "text/plain": [
       "isocode                     0\n",
       "isonum                      0\n",
       "country                     0\n",
       "rugged                      0\n",
       "rugged_popw                 0\n",
       "rugged_slope                0\n",
       "rugged_lsd                  0\n",
       "rugged_pc                   0\n",
       "land_area                   4\n",
       "lat                         0\n",
       "lon                         0\n",
       "soil                        9\n",
       "desert                      0\n",
       "tropical                    0\n",
       "dist_coast                  0\n",
       "near_coast                  0\n",
       "gemstones                   0\n",
       "rgdppc_2000                64\n",
       "rgdppc_1950_m              97\n",
       "rgdppc_1975_m              97\n",
       "rgdppc_2000_m              75\n",
       "rgdppc_1950_2000_m         97\n",
       "q_rule_law                 37\n",
       "cont_africa                 0\n",
       "cont_asia                   0\n",
       "cont_europe                 0\n",
       "cont_oceania                0\n",
       "cont_north_america          0\n",
       "cont_south_america          0\n",
       "legor_gbr                  23\n",
       "legor_fra                  23\n",
       "legor_soc                  23\n",
       "legor_deu                  23\n",
       "legor_sca                  23\n",
       "colony_esp                  0\n",
       "colony_gbr                  0\n",
       "colony_fra                  0\n",
       "colony_prt                  0\n",
       "colony_oeu                  0\n",
       "africa_region_n             0\n",
       "africa_region_s             0\n",
       "africa_region_w             0\n",
       "africa_region_e             0\n",
       "africa_region_c             0\n",
       "slave_exports               0\n",
       "dist_slavemkt_atlantic    177\n",
       "dist_slavemkt_indian      177\n",
       "dist_slavemkt_saharan     177\n",
       "dist_slavemkt_redsea      177\n",
       "pop_1400                   33\n",
       "european_descent           69\n",
       "dtype: int64"
      ]
     },
     "execution_count": null,
     "metadata": {},
     "output_type": "execute_result"
    }
   ],
   "source": [
    "df.isna().sum()"
   ]
  },
  {
   "cell_type": "code",
   "execution_count": null,
   "metadata": {},
   "outputs": [
    {
     "data": {
      "text/plain": [
       "((234, 52), (170, 52))"
      ]
     },
     "execution_count": null,
     "metadata": {},
     "output_type": "execute_result"
    }
   ],
   "source": [
    "# Make log version of the outcome\n",
    "df[\"log_gdp\"] = np.log(df[\"rgdppc_2000\"])\n",
    "\n",
    "# Extract countries with GDP\n",
    "dd = df.dropna(subset=[\"log_gdp\"])\n",
    "df.shape, dd.shape"
   ]
  },
  {
   "cell_type": "code",
   "execution_count": null,
   "metadata": {},
   "outputs": [
    {
     "data": {
      "image/png": "[encoded data removed]",
      "text/plain": [
       "<Figure size 360x360 with 6 Axes>"
      ]
     },
     "metadata": {
      "needs_background": "light"
     },
     "output_type": "display_data"
    }
   ],
   "source": [
    "sns.pairplot(data=dd[[\"log_gdp\", \"rugged\"]])\n",
    "plt.show()"
   ]
  },
  {
   "cell_type": "code",
   "execution_count": null,
   "metadata": {},
   "outputs": [
    {
     "name": "stderr",
     "output_type": "stream",
     "text": [
      "/opt/conda/lib/python3.7/site-packages/ipykernel_launcher.py:2: SettingWithCopyWarning: \n",
      "A value is trying to be set on a copy of a slice from a DataFrame.\n",
      "Try using .loc[row_indexer,col_indexer] = value instead\n",
      "\n",
      "See the caveats in the documentation: https://pandas.pydata.org/pandas-docs/stable/user_guide/indexing.html#returning-a-view-versus-a-copy\n",
      "  \n",
      "/opt/conda/lib/python3.7/site-packages/ipykernel_launcher.py:3: SettingWithCopyWarning: \n",
      "A value is trying to be set on a copy of a slice from a DataFrame.\n",
      "Try using .loc[row_indexer,col_indexer] = value instead\n",
      "\n",
      "See the caveats in the documentation: https://pandas.pydata.org/pandas-docs/stable/user_guide/indexing.html#returning-a-view-versus-a-copy\n",
      "  This is separate from the ipykernel package so we can avoid doing imports until\n"
     ]
    }
   ],
   "source": [
    "# Rescale variables\n",
    "dd[\"log_gdp_std\"] = dd[\"log_gdp\"] / dd[\"log_gdp\"].mean()\n",
    "dd[\"rugged_std\"] = dd[\"rugged\"] / dd[\"rugged\"].max()"
   ]
  },
  {
   "cell_type": "code",
   "execution_count": null,
   "metadata": {},
   "outputs": [
    {
     "data": {
      "image/png": "[encoded data removed]",
      "text/plain": [
       "<Figure size 360x360 with 6 Axes>"
      ]
     },
     "metadata": {
      "needs_background": "light"
     },
     "output_type": "display_data"
    }
   ],
   "source": [
    "sns.pairplot(data=dd[[\"log_gdp_std\", \"rugged_std\"]])\n",
    "plt.show()"
   ]
  },
  {
   "cell_type": "code",
   "execution_count": null,
   "metadata": {},
   "outputs": [
    {
     "data": {
      "text/plain": [
       "<seaborn.axisgrid.FacetGrid at 0x7ff61b7dca10>"
      ]
     },
     "execution_count": null,
     "metadata": {},
     "output_type": "execute_result"
    },
    {
     "data": {
      "image/png": "[encoded data removed]",
      "text/plain": [
       "<Figure size 720x360 with 2 Axes>"
      ]
     },
     "metadata": {
      "needs_background": "light"
     },
     "output_type": "display_data"
    }
   ],
   "source": [
    "sns.relplot(x=\"rugged_std\", y=\"log_gdp_std\",data=dd,col=\"cont_africa\")"
   ]
  },
  {
   "cell_type": "code",
   "execution_count": null,
   "metadata": {},
   "outputs": [
    {
     "data": {
      "text/html": [
       "<div>\n",
       "<style scoped>\n",
       "    .dataframe tbody tr th:only-of-type {\n",
       "        vertical-align: middle;\n",
       "    }\n",
       "\n",
       "    .dataframe tbody tr th {\n",
       "        vertical-align: top;\n",
       "    }\n",
       "\n",
       "    .dataframe thead th {\n",
       "        text-align: right;\n",
       "    }\n",
       "</style>\n",
       "<table border=\"1\" class=\"dataframe\">\n",
       "  <thead>\n",
       "    <tr style=\"text-align: right;\">\n",
       "      <th></th>\n",
       "      <th>log_gdp_std</th>\n",
       "      <th>rugged_std</th>\n",
       "    </tr>\n",
       "  </thead>\n",
       "  <tbody>\n",
       "    <tr>\n",
       "      <th>count</th>\n",
       "      <td>170.000000</td>\n",
       "      <td>170.000000</td>\n",
       "    </tr>\n",
       "    <tr>\n",
       "      <th>mean</th>\n",
       "      <td>1.000000</td>\n",
       "      <td>0.214960</td>\n",
       "    </tr>\n",
       "    <tr>\n",
       "      <th>std</th>\n",
       "      <td>0.136959</td>\n",
       "      <td>0.188402</td>\n",
       "    </tr>\n",
       "    <tr>\n",
       "      <th>min</th>\n",
       "      <td>0.721556</td>\n",
       "      <td>0.000484</td>\n",
       "    </tr>\n",
       "    <tr>\n",
       "      <th>25%</th>\n",
       "      <td>0.885214</td>\n",
       "      <td>0.071308</td>\n",
       "    </tr>\n",
       "    <tr>\n",
       "      <th>50%</th>\n",
       "      <td>1.007176</td>\n",
       "      <td>0.157933</td>\n",
       "    </tr>\n",
       "    <tr>\n",
       "      <th>75%</th>\n",
       "      <td>1.113081</td>\n",
       "      <td>0.315584</td>\n",
       "    </tr>\n",
       "    <tr>\n",
       "      <th>max</th>\n",
       "      <td>1.287361</td>\n",
       "      <td>1.000000</td>\n",
       "    </tr>\n",
       "  </tbody>\n",
       "</table>\n",
       "</div>"
      ],
      "text/plain": [
       "       log_gdp_std  rugged_std\n",
       "count   170.000000  170.000000\n",
       "mean      1.000000    0.214960\n",
       "std       0.136959    0.188402\n",
       "min       0.721556    0.000484\n",
       "25%       0.885214    0.071308\n",
       "50%       1.007176    0.157933\n",
       "75%       1.113081    0.315584\n",
       "max       1.287361    1.000000"
      ]
     },
     "execution_count": null,
     "metadata": {},
     "output_type": "execute_result"
    }
   ],
   "source": [
    "dd[[\"log_gdp_std\", \"rugged_std\"]].describe()"
   ]
  },
  {
   "cell_type": "markdown",
   "metadata": {},
   "source": [
    "### 1. Simple regression model m1"
   ]
  },
  {
   "cell_type": "code",
   "execution_count": null,
   "metadata": {},
   "outputs": [
    {
     "name": "stderr",
     "output_type": "stream",
     "text": [
      "Auto-assigning NUTS sampler...\n",
      "Initializing NUTS using jitter+adapt_diag...\n",
      "Multiprocess sampling (4 chains in 4 jobs)\n",
      "NUTS: [sigma, b, a]\n"
     ]
    },
    {
     "data": {
      "text/html": [
       "\n",
       "    <div>\n",
       "        <style>\n",
       "            /* Turns off some styling */\n",
       "            progress {\n",
       "                /* gets rid of default border in Firefox and Opera. */\n",
       "                border: none;\n",
       "                /* Needs to be in here for Safari polyfill so background images work as expected. */\n",
       "                background-size: auto;\n",
       "            }\n",
       "            .progress-bar-interrupted, .progress-bar-interrupted::-webkit-progress-bar {\n",
       "                background: #F44336;\n",
       "            }\n",
       "        </style>\n",
       "      <progress value='8000' class='' max='8000' style='width:300px; height:20px; vertical-align: middle;'></progress>\n",
       "      100.00% [8000/8000 00:01<00:00 Sampling 4 chains, 0 divergences]\n",
       "    </div>\n",
       "    "
      ],
      "text/plain": [
       "<IPython.core.display.HTML object>"
      ]
     },
     "metadata": {},
     "output_type": "display_data"
    },
    {
     "name": "stderr",
     "output_type": "stream",
     "text": [
      "Sampling 4 chains for 1_000 tune and 1_000 draw iterations (4_000 + 4_000 draws total) took 1 seconds.\n"
     ]
    }
   ],
   "source": [
    "with pm.Model() as m1:\n",
    "    a = pm.Normal(\"a\", 1, 0.1)\n",
    "    b = pm.Normal(\"b\", 0, 0.1)\n",
    "    mu = a + b * (dd[\"rugged_std\"] - 0.215)\n",
    "    sigma = pm.Exponential(\"sigma\", 1)\n",
    "    \n",
    "    log_gdp_std = pm.Normal(\"log_gdp_std\", mu, sigma, \n",
    "                            observed=dd[\"log_gdp_std\"])\n",
    "    m1_prior = pm.sample_prior_predictive()\n",
    "    m1_trace = pm.sample()"
   ]
  },
  {
   "cell_type": "code",
   "execution_count": null,
   "metadata": {},
   "outputs": [
    {
     "data": {
      "text/html": [
       "<div>\n",
       "<style scoped>\n",
       "    .dataframe tbody tr th:only-of-type {\n",
       "        vertical-align: middle;\n",
       "    }\n",
       "\n",
       "    .dataframe tbody tr th {\n",
       "        vertical-align: top;\n",
       "    }\n",
       "\n",
       "    .dataframe thead th {\n",
       "        text-align: right;\n",
       "    }\n",
       "</style>\n",
       "<table border=\"1\" class=\"dataframe\">\n",
       "  <thead>\n",
       "    <tr style=\"text-align: right;\">\n",
       "      <th></th>\n",
       "      <th>mean</th>\n",
       "      <th>sd</th>\n",
       "      <th>hdi_3%</th>\n",
       "      <th>hdi_97%</th>\n",
       "    </tr>\n",
       "  </thead>\n",
       "  <tbody>\n",
       "    <tr>\n",
       "      <th>a</th>\n",
       "      <td>1.00</td>\n",
       "      <td>0.01</td>\n",
       "      <td>0.98</td>\n",
       "      <td>1.02</td>\n",
       "    </tr>\n",
       "    <tr>\n",
       "      <th>b</th>\n",
       "      <td>0.00</td>\n",
       "      <td>0.05</td>\n",
       "      <td>-0.10</td>\n",
       "      <td>0.09</td>\n",
       "    </tr>\n",
       "    <tr>\n",
       "      <th>sigma</th>\n",
       "      <td>0.14</td>\n",
       "      <td>0.01</td>\n",
       "      <td>0.12</td>\n",
       "      <td>0.15</td>\n",
       "    </tr>\n",
       "  </tbody>\n",
       "</table>\n",
       "</div>"
      ],
      "text/plain": [
       "       mean    sd  hdi_3%  hdi_97%\n",
       "a      1.00  0.01    0.98     1.02\n",
       "b      0.00  0.05   -0.10     0.09\n",
       "sigma  0.14  0.01    0.12     0.15"
      ]
     },
     "execution_count": null,
     "metadata": {},
     "output_type": "execute_result"
    }
   ],
   "source": [
    "az.summary(m1_trace, kind=\"stats\", round_to=2)"
   ]
  },
  {
   "cell_type": "markdown",
   "metadata": {},
   "source": [
    "### 2. Simple regression model with categorical or indexing m2"
   ]
  },
  {
   "cell_type": "code",
   "execution_count": null,
   "metadata": {},
   "outputs": [
    {
     "data": {
      "text/plain": [
       "[1, 0, 0, 0, 0, ..., 0, 0, 1, 1, 1]\n",
       "Length: 170\n",
       "Categories (2, int64): [0, 1]"
      ]
     },
     "execution_count": null,
     "metadata": {},
     "output_type": "execute_result"
    }
   ],
   "source": [
    "cid = pd.Categorical(dd[\"cont_africa\"])\n",
    "cid"
   ]
  },
  {
   "cell_type": "code",
   "execution_count": null,
   "metadata": {},
   "outputs": [
    {
     "name": "stderr",
     "output_type": "stream",
     "text": [
      "Auto-assigning NUTS sampler...\n",
      "Initializing NUTS using jitter+adapt_diag...\n",
      "Multiprocess sampling (4 chains in 4 jobs)\n",
      "NUTS: [sigma, b, a]\n"
     ]
    },
    {
     "data": {
      "text/html": [
       "\n",
       "    <div>\n",
       "        <style>\n",
       "            /* Turns off some styling */\n",
       "            progress {\n",
       "                /* gets rid of default border in Firefox and Opera. */\n",
       "                border: none;\n",
       "                /* Needs to be in here for Safari polyfill so background images work as expected. */\n",
       "                background-size: auto;\n",
       "            }\n",
       "            .progress-bar-interrupted, .progress-bar-interrupted::-webkit-progress-bar {\n",
       "                background: #F44336;\n",
       "            }\n",
       "        </style>\n",
       "      <progress value='8000' class='' max='8000' style='width:300px; height:20px; vertical-align: middle;'></progress>\n",
       "      100.00% [8000/8000 00:01<00:00 Sampling 4 chains, 0 divergences]\n",
       "    </div>\n",
       "    "
      ],
      "text/plain": [
       "<IPython.core.display.HTML object>"
      ]
     },
     "metadata": {},
     "output_type": "display_data"
    },
    {
     "name": "stderr",
     "output_type": "stream",
     "text": [
      "Sampling 4 chains for 1_000 tune and 1_000 draw iterations (4_000 + 4_000 draws total) took 2 seconds.\n"
     ]
    }
   ],
   "source": [
    "with pm.Model() as m2:\n",
    "    a = pm.Normal(\"a\", 1, 0.1, shape=cid.categories.size)\n",
    "    b = pm.Normal(\"b\", 0, 0.1)\n",
    "    mu = a[cid] + b * (dd[\"rugged_std\"] - 0.215)\n",
    "    sigma = pm.Exponential(\"sigma\", 1)\n",
    "    \n",
    "    log_gdp_std = pm.Normal(\"log_gdp_std\", mu, sigma, \n",
    "                            observed=dd[\"log_gdp_std\"])\n",
    "    m2_prior = pm.sample_prior_predictive()\n",
    "    m2_trace = pm.sample()"
   ]
  },
  {
   "cell_type": "code",
   "execution_count": null,
   "metadata": {},
   "outputs": [
    {
     "data": {
      "text/html": [
       "<div>\n",
       "<style scoped>\n",
       "    .dataframe tbody tr th:only-of-type {\n",
       "        vertical-align: middle;\n",
       "    }\n",
       "\n",
       "    .dataframe tbody tr th {\n",
       "        vertical-align: top;\n",
       "    }\n",
       "\n",
       "    .dataframe thead th {\n",
       "        text-align: right;\n",
       "    }\n",
       "</style>\n",
       "<table border=\"1\" class=\"dataframe\">\n",
       "  <thead>\n",
       "    <tr style=\"text-align: right;\">\n",
       "      <th></th>\n",
       "      <th>mean</th>\n",
       "      <th>sd</th>\n",
       "      <th>hdi_3%</th>\n",
       "      <th>hdi_97%</th>\n",
       "    </tr>\n",
       "  </thead>\n",
       "  <tbody>\n",
       "    <tr>\n",
       "      <th>a[0]</th>\n",
       "      <td>1.05</td>\n",
       "      <td>0.01</td>\n",
       "      <td>1.03</td>\n",
       "      <td>1.07</td>\n",
       "    </tr>\n",
       "    <tr>\n",
       "      <th>a[1]</th>\n",
       "      <td>0.88</td>\n",
       "      <td>0.02</td>\n",
       "      <td>0.85</td>\n",
       "      <td>0.91</td>\n",
       "    </tr>\n",
       "    <tr>\n",
       "      <th>b</th>\n",
       "      <td>-0.04</td>\n",
       "      <td>0.04</td>\n",
       "      <td>-0.12</td>\n",
       "      <td>0.04</td>\n",
       "    </tr>\n",
       "    <tr>\n",
       "      <th>sigma</th>\n",
       "      <td>0.11</td>\n",
       "      <td>0.01</td>\n",
       "      <td>0.10</td>\n",
       "      <td>0.13</td>\n",
       "    </tr>\n",
       "  </tbody>\n",
       "</table>\n",
       "</div>"
      ],
      "text/plain": [
       "       mean    sd  hdi_3%  hdi_97%\n",
       "a[0]   1.05  0.01    1.03     1.07\n",
       "a[1]   0.88  0.02    0.85     0.91\n",
       "b     -0.04  0.04   -0.12     0.04\n",
       "sigma  0.11  0.01    0.10     0.13"
      ]
     },
     "execution_count": null,
     "metadata": {},
     "output_type": "execute_result"
    }
   ],
   "source": [
    "az.summary(m2_trace, kind=\"stats\", round_to=2)"
   ]
  },
  {
   "cell_type": "markdown",
   "metadata": {},
   "source": [
    "### 3. Simple regression model with categorical or indexing m3"
   ]
  },
  {
   "cell_type": "code",
   "execution_count": null,
   "metadata": {},
   "outputs": [
    {
     "data": {
      "text/plain": [
       "[1, 0, 0, 0, 0, ..., 0, 0, 1, 1, 1]\n",
       "Length: 170\n",
       "Categories (2, int64): [0, 1]"
      ]
     },
     "execution_count": null,
     "metadata": {},
     "output_type": "execute_result"
    }
   ],
   "source": [
    "cid = pd.Categorical(dd[\"cont_africa\"])\n",
    "cid"
   ]
  },
  {
   "cell_type": "code",
   "execution_count": null,
   "metadata": {},
   "outputs": [
    {
     "name": "stderr",
     "output_type": "stream",
     "text": [
      "Auto-assigning NUTS sampler...\n",
      "Initializing NUTS using jitter+adapt_diag...\n",
      "Multiprocess sampling (4 chains in 4 jobs)\n",
      "NUTS: [sigma, b, a]\n"
     ]
    },
    {
     "data": {
      "text/html": [
       "\n",
       "    <div>\n",
       "        <style>\n",
       "            /* Turns off some styling */\n",
       "            progress {\n",
       "                /* gets rid of default border in Firefox and Opera. */\n",
       "                border: none;\n",
       "                /* Needs to be in here for Safari polyfill so background images work as expected. */\n",
       "                background-size: auto;\n",
       "            }\n",
       "            .progress-bar-interrupted, .progress-bar-interrupted::-webkit-progress-bar {\n",
       "                background: #F44336;\n",
       "            }\n",
       "        </style>\n",
       "      <progress value='8000' class='' max='8000' style='width:300px; height:20px; vertical-align: middle;'></progress>\n",
       "      100.00% [8000/8000 00:02<00:00 Sampling 4 chains, 0 divergences]\n",
       "    </div>\n",
       "    "
      ],
      "text/plain": [
       "<IPython.core.display.HTML object>"
      ]
     },
     "metadata": {},
     "output_type": "display_data"
    },
    {
     "name": "stderr",
     "output_type": "stream",
     "text": [
      "Sampling 4 chains for 1_000 tune and 1_000 draw iterations (4_000 + 4_000 draws total) took 2 seconds.\n"
     ]
    }
   ],
   "source": [
    "with pm.Model() as m3:\n",
    "    a = pm.Normal(\"a\", 1, 0.1, shape=cid.categories.size)\n",
    "    b = pm.Normal(\"b\", 0, 0.3, shape=cid.categories.size)\n",
    "    mu = a[cid] + b[cid] * (dd[\"rugged_std\"] - 0.215)\n",
    "    sigma = pm.Exponential(\"sigma\", 1)\n",
    "    \n",
    "    log_gdp_std = pm.Normal(\"log_gdp_std\", mu, sigma, \n",
    "                            observed=dd[\"log_gdp_std\"])\n",
    "    m3_prior = pm.sample_prior_predictive()\n",
    "    m3_trace = pm.sample()"
   ]
  },
  {
   "cell_type": "code",
   "execution_count": null,
   "metadata": {},
   "outputs": [
    {
     "name": "stderr",
     "output_type": "stream",
     "text": [
      "/opt/conda/lib/python3.7/site-packages/arviz/utils.py:653: UserWarning: Keyword argument credible_interval has been deprecated Please replace with hdi_prob\n",
      "  (\"Keyword argument credible_interval has been deprecated \" \"Please replace with hdi_prob\"),\n"
     ]
    },
    {
     "data": {
      "text/html": [
       "<div>\n",
       "<style scoped>\n",
       "    .dataframe tbody tr th:only-of-type {\n",
       "        vertical-align: middle;\n",
       "    }\n",
       "\n",
       "    .dataframe tbody tr th {\n",
       "        vertical-align: top;\n",
       "    }\n",
       "\n",
       "    .dataframe thead th {\n",
       "        text-align: right;\n",
       "    }\n",
       "</style>\n",
       "<table border=\"1\" class=\"dataframe\">\n",
       "  <thead>\n",
       "    <tr style=\"text-align: right;\">\n",
       "      <th></th>\n",
       "      <th>mean</th>\n",
       "      <th>sd</th>\n",
       "      <th>hdi_3%</th>\n",
       "      <th>hdi_97%</th>\n",
       "    </tr>\n",
       "  </thead>\n",
       "  <tbody>\n",
       "    <tr>\n",
       "      <th>a[0]</th>\n",
       "      <td>1.05</td>\n",
       "      <td>0.01</td>\n",
       "      <td>1.03</td>\n",
       "      <td>1.07</td>\n",
       "    </tr>\n",
       "    <tr>\n",
       "      <th>a[1]</th>\n",
       "      <td>0.89</td>\n",
       "      <td>0.02</td>\n",
       "      <td>0.86</td>\n",
       "      <td>0.92</td>\n",
       "    </tr>\n",
       "    <tr>\n",
       "      <th>b[0]</th>\n",
       "      <td>-0.14</td>\n",
       "      <td>0.05</td>\n",
       "      <td>-0.25</td>\n",
       "      <td>-0.05</td>\n",
       "    </tr>\n",
       "    <tr>\n",
       "      <th>b[1]</th>\n",
       "      <td>0.13</td>\n",
       "      <td>0.08</td>\n",
       "      <td>-0.02</td>\n",
       "      <td>0.28</td>\n",
       "    </tr>\n",
       "    <tr>\n",
       "      <th>sigma</th>\n",
       "      <td>0.11</td>\n",
       "      <td>0.01</td>\n",
       "      <td>0.10</td>\n",
       "      <td>0.12</td>\n",
       "    </tr>\n",
       "  </tbody>\n",
       "</table>\n",
       "</div>"
      ],
      "text/plain": [
       "       mean    sd  hdi_3%  hdi_97%\n",
       "a[0]   1.05  0.01    1.03     1.07\n",
       "a[1]   0.89  0.02    0.86     0.92\n",
       "b[0]  -0.14  0.05   -0.25    -0.05\n",
       "b[1]   0.13  0.08   -0.02     0.28\n",
       "sigma  0.11  0.01    0.10     0.12"
      ]
     },
     "execution_count": null,
     "metadata": {},
     "output_type": "execute_result"
    }
   ],
   "source": [
    "az.summary(m3_trace, kind=\"stats\", round_to=2, credible_interval=89)"
   ]
  },
  {
   "cell_type": "code",
   "execution_count": null,
   "metadata": {},
   "outputs": [
    {
     "data": {
      "text/html": [
       "\n",
       "    <div>\n",
       "        <style>\n",
       "            /* Turns off some styling */\n",
       "            progress {\n",
       "                /* gets rid of default border in Firefox and Opera. */\n",
       "                border: none;\n",
       "                /* Needs to be in here for Safari polyfill so background images work as expected. */\n",
       "                background-size: auto;\n",
       "            }\n",
       "            .progress-bar-interrupted, .progress-bar-interrupted::-webkit-progress-bar {\n",
       "                background: #F44336;\n",
       "            }\n",
       "        </style>\n",
       "      <progress value='4000' class='' max='4000' style='width:300px; height:20px; vertical-align: middle;'></progress>\n",
       "      100.00% [4000/4000 00:00<00:00]\n",
       "    </div>\n",
       "    "
      ],
      "text/plain": [
       "<IPython.core.display.HTML object>"
      ]
     },
     "metadata": {},
     "output_type": "display_data"
    }
   ],
   "source": [
    "with m3:\n",
    "    m3_posterior = pm.sample_posterior_predictive(m3_trace, \n",
    "                                                  vars=[a, b, sigma])\n",
    "    "
   ]
  },
  {
   "cell_type": "code",
   "execution_count": null,
   "metadata": {},
   "outputs": [
    {
     "name": "stderr",
     "output_type": "stream",
     "text": [
      "/opt/conda/lib/python3.7/site-packages/arviz/data/base.py:146: UserWarning: More chains (4000) than draws (50). Passed array should have shape (chains, draws, *shape)\n",
      "  UserWarning,\n",
      "/opt/conda/lib/python3.7/site-packages/arviz/data/base.py:146: UserWarning: More chains (4000) than draws (50). Passed array should have shape (chains, draws, *shape)\n",
      "  UserWarning,\n"
     ]
    },
    {
     "data": {
      "image/png": "[encoded data removed]",
      "text/plain": [
       "<Figure size 432x288 with 1 Axes>"
      ]
     },
     "metadata": {
      "needs_background": "light"
     },
     "output_type": "display_data"
    }
   ],
   "source": [
    "fig, ax = plt.subplots()\n",
    "rugged_plot = np.linspace(-0.1, 1.1)\n",
    "\n",
    "ax.scatter(\n",
    "    dd.loc[cid == 0, \"rugged_std\"],\n",
    "    dd.loc[cid == 0, \"log_gdp_std\"],\n",
    "    label=\"Not Africa\",\n",
    "    facecolor=\"w\",\n",
    "    lw=1,\n",
    "    edgecolor=\"k\",\n",
    ")\n",
    "\n",
    "pred0 = m3_posterior[\"a\"][:, 0] + rugged_plot.reshape(-1, 1) * m3_posterior[\"b\"][:,0]\n",
    "ax.plot(rugged_plot, pred0.mean(1), color=\"grey\")\n",
    "az.plot_hdi(rugged_plot, pred0.T, color=\"grey\", hdi_prob=0.97, ax=ax)\n",
    "\n",
    "ax.scatter(\n",
    "    dd.loc[cid == 1, \"rugged_std\"],\n",
    "    dd.loc[cid == 1, \"log_gdp_std\"],\n",
    "    label=\"Africa\",\n",
    "    color=\"b\",\n",
    ")\n",
    "pred1 = m3_posterior[\"a\"][:, 1] + rugged_plot.reshape(-1, 1) * m3_posterior[\"b\"][:,1]\n",
    "ax.plot(rugged_plot, pred1.mean(1), color=\"b\")\n",
    "az.plot_hdi(rugged_plot, pred1.T, color=\"b\", hdi_prob=0.97, ax=ax, fill_kwargs={\"alpha\": 0.2})\n",
    "\n",
    "ax.legend(frameon=True)\n",
    "\n",
    "ax.set_xlim(-0.1, 1.1)\n",
    "ax.set_xlabel(\"ruggedness (standardised)\")\n",
    "ax.set_ylabel(\"log GDP (as proportion of mean)\");"
   ]
  },
  {
   "cell_type": "code",
   "execution_count": null,
   "metadata": {},
   "outputs": [
    {
     "data": {
      "text/html": [
       "<div>\n",
       "<style scoped>\n",
       "    .dataframe tbody tr th:only-of-type {\n",
       "        vertical-align: middle;\n",
       "    }\n",
       "\n",
       "    .dataframe tbody tr th {\n",
       "        vertical-align: top;\n",
       "    }\n",
       "\n",
       "    .dataframe thead th {\n",
       "        text-align: right;\n",
       "    }\n",
       "</style>\n",
       "<table border=\"1\" class=\"dataframe\">\n",
       "  <thead>\n",
       "    <tr style=\"text-align: right;\">\n",
       "      <th></th>\n",
       "      <th>rank</th>\n",
       "      <th>loo</th>\n",
       "      <th>p_loo</th>\n",
       "      <th>d_loo</th>\n",
       "      <th>weight</th>\n",
       "      <th>se</th>\n",
       "      <th>dse</th>\n",
       "      <th>warning</th>\n",
       "      <th>loo_scale</th>\n",
       "    </tr>\n",
       "  </thead>\n",
       "  <tbody>\n",
       "    <tr>\n",
       "      <th>m3</th>\n",
       "      <td>0</td>\n",
       "      <td>129.486</td>\n",
       "      <td>5.08289</td>\n",
       "      <td>0</td>\n",
       "      <td>0.832219</td>\n",
       "      <td>6.44119</td>\n",
       "      <td>0</td>\n",
       "      <td>False</td>\n",
       "      <td>log</td>\n",
       "    </tr>\n",
       "    <tr>\n",
       "      <th>m2</th>\n",
       "      <td>1</td>\n",
       "      <td>126.213</td>\n",
       "      <td>3.99684</td>\n",
       "      <td>3.27299</td>\n",
       "      <td>0.167781</td>\n",
       "      <td>7.36539</td>\n",
       "      <td>3.21181</td>\n",
       "      <td>False</td>\n",
       "      <td>log</td>\n",
       "    </tr>\n",
       "    <tr>\n",
       "      <th>m1</th>\n",
       "      <td>2</td>\n",
       "      <td>94.6835</td>\n",
       "      <td>2.31949</td>\n",
       "      <td>34.8021</td>\n",
       "      <td>2.15982e-07</td>\n",
       "      <td>7.25594</td>\n",
       "      <td>7.46216</td>\n",
       "      <td>False</td>\n",
       "      <td>log</td>\n",
       "    </tr>\n",
       "  </tbody>\n",
       "</table>\n",
       "</div>"
      ],
      "text/plain": [
       "   rank      loo    p_loo    d_loo       weight       se      dse warning  \\\n",
       "m3    0  129.486  5.08289        0     0.832219  6.44119        0   False   \n",
       "m2    1  126.213  3.99684  3.27299     0.167781  7.36539  3.21181   False   \n",
       "m1    2  94.6835  2.31949  34.8021  2.15982e-07  7.25594  7.46216   False   \n",
       "\n",
       "   loo_scale  \n",
       "m3       log  \n",
       "m2       log  \n",
       "m1       log  "
      ]
     },
     "execution_count": null,
     "metadata": {},
     "output_type": "execute_result"
    }
   ],
   "source": [
    "az.compare({\"m1\":m1_trace, \"m2\":m2_trace, \"m3\":m3_trace}, ic=\"loo\")"
   ]
  },
  {
   "cell_type": "code",
   "execution_count": null,
   "metadata": {},
   "outputs": [
    {
     "name": "stderr",
     "output_type": "stream",
     "text": [
      "/opt/conda/lib/python3.7/site-packages/arviz/data/base.py:146: UserWarning: More chains (4000) than draws (50). Passed array should have shape (chains, draws, *shape)\n",
      "  UserWarning,\n"
     ]
    },
    {
     "data": {
      "text/plain": [
       "(0.0, 1.0)"
      ]
     },
     "execution_count": null,
     "metadata": {},
     "output_type": "execute_result"
    },
    {
     "data": {
      "image/png": "[encoded data removed]",
      "text/plain": [
       "<Figure size 432x360 with 1 Axes>"
      ]
     },
     "metadata": {
      "needs_background": "light"
     },
     "output_type": "display_data"
    }
   ],
   "source": [
    "fig, ax = plt.subplots(figsize=(6, 5))\n",
    "\n",
    "rugged_plot = np.linspace(-0.1, 1.1)\n",
    "\n",
    "delta = pred1 - pred0  # using 'pred' from above\n",
    "\n",
    "ax.plot(rugged_plot, delta.mean(1), c=\"k\")\n",
    "az.plot_hdi(rugged_plot, delta.T, ax=ax, color=\"grey\")\n",
    "\n",
    "ax.axhline(0, ls=\"dashed\", zorder=1, color=(0, 0, 0, 0.5))\n",
    "ax.text(0.01, 0.01, \"Africa higher GDP\")\n",
    "ax.text(0.01, -0.03, \"Africa lower GDP\")\n",
    "\n",
    "ax.set_xlabel(\"ruggedness\")\n",
    "ax.set_ylabel(\"expected difference log GDP\")\n",
    "ax.set_xlim(0, 1)\n"
   ]
  },
  {
   "cell_type": "code",
   "execution_count": null,
   "metadata": {},
   "outputs": [],
   "source": []
  }
 ],
 "metadata": {
  "kernelspec": {
   "display_name": "Python 3",
   "language": "python",
   "name": "python3"
  }
 },
 "nbformat": 4,
 "nbformat_minor": 4
}
